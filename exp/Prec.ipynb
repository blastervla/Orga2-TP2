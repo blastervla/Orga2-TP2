{
 "cells": [
  {
   "cell_type": "markdown",
   "metadata": {},
   "source": [
    "# Sin Filtro (TP2 Orga2)\n",
    "## Experimentos de Bordes 💪💪"
   ]
  },
  {
   "cell_type": "markdown",
   "metadata": {},
   "source": [
    "### Compilado de código"
   ]
  },
  {
   "cell_type": "code",
   "execution_count": 1,
   "metadata": {},
   "outputs": [
    {
     "name": "stdout",
     "output_type": "stream",
     "text": [
      "Copiando Binarios del TP ...\n",
      "Listo!\n",
      "Copiando AVG ...\n",
      "Listo!\n",
      "Copiando Noise ...\n",
      "Listo!\n"
     ]
    }
   ],
   "source": [
    "!echo Copiando Binarios del TP ...\n",
    "!rm -r prec_files/\n",
    "!mkdir -p prec_files/ > /dev/null\n",
    "!cd ../src && make clean > /dev/null && make > /dev/null\n",
    "!cp ../src/build/tp2 prec_files/tp2_ref > /dev/null\n",
    "!cp ../src/build/tp2_im2 prec_files/tp2_imp > /dev/null\n",
    "!cp ../src/build/bmpdiff prec_files/bmpdiff > /dev/null\n",
    "!echo Listo!\n",
    "!echo Copiando AVG ...\n",
    "!cd ../avg && make clean > /dev/null && make > /dev/null\n",
    "!cp ../avg/avg prec_files/avg > /dev/null\n",
    "!echo Listo!\n",
    "!echo Copiando Noise ...\n",
    "!cd ../noise && make clean > /dev/null && make > /dev/null\n",
    "!cp ../noise/noise prec_files/noise > /dev/null\n",
    "!mkdir prec_files/data > /dev/null\n",
    "!echo Listo!"
   ]
  },
  {
   "cell_type": "markdown",
   "metadata": {},
   "source": [
    "### Generar imagenes"
   ]
  },
  {
   "cell_type": "code",
   "execution_count": 2,
   "metadata": {},
   "outputs": [
    {
     "name": "stdout",
     "output_type": "stream",
     "text": [
      "Generando Imagenes ...\n",
      "Listo!\n"
     ]
    }
   ],
   "source": [
    "!echo Generando Imagenes ...\n",
    "!./prec_files/noise ../src/img/puente.bmp 0 0 prec_files/data\n",
    "!echo Listo!"
   ]
  },
  {
   "cell_type": "markdown",
   "metadata": {},
   "source": [
    "### Imports"
   ]
  },
  {
   "cell_type": "code",
   "execution_count": 3,
   "metadata": {},
   "outputs": [
    {
     "name": "stdout",
     "output_type": "stream",
     "text": [
      "/home/ignacio/Documents/Facultad/orga2-tp2/tp2/exp\n",
      "Python 3.7.4\n"
     ]
    }
   ],
   "source": [
    "# Verifico la correcta instalación. Si no falla el import está OK\n",
    "#!/usr/bin/env python3\n",
    "!pwd\n",
    "!python3 --version\n",
    "\n",
    "#import numpy as np\n",
    "\n",
    "import matplotlib.pyplot as plt\n",
    "import matplotlib.patches as mpatches\n",
    "import json\n",
    "import numpy as np\n",
    "import glob, os\n",
    "\n",
    "from IPython.display import Markdown, display\n",
    "from IPython.display import clear_output\n",
    "\n",
    "from subprocess import check_output\n",
    "\n",
    "from ipywidgets import IntProgress, HTML, VBox"
   ]
  },
  {
   "cell_type": "markdown",
   "metadata": {},
   "source": [
    "### Utilidades"
   ]
  },
  {
   "cell_type": "code",
   "execution_count": 4,
   "metadata": {},
   "outputs": [],
   "source": [
    "def box_plot(impls, title):\n",
    "    ## Create boxplots\n",
    "    # Create a figure instance\n",
    "    fig = plt.figure(1, figsize=(9, 6))\n",
    "\n",
    "    # Create an axes instance\n",
    "    ax = fig.add_subplot(111)\n",
    "\n",
    "    dataToPlot = [imp[\"cycles\"] for imp in impls]\n",
    "\n",
    "    # Create the boxplot\n",
    "    ## add patch_artist=True option to ax.boxplot() \n",
    "    ## to get fill color\n",
    "    bp = ax.boxplot(dataToPlot, patch_artist=True, showfliers=False)\n",
    "\n",
    "    ## change outline color, fill color and linewidth of the boxes\n",
    "    for box in bp['boxes']:\n",
    "        # change outline color\n",
    "        box.set( color='#7570b3', linewidth=2)\n",
    "        # change fill color\n",
    "        box.set( facecolor = '#1b9e77' )\n",
    "\n",
    "    ## change color and linewidth of the whiskers\n",
    "    for whisker in bp['whiskers']:\n",
    "        whisker.set(color='#7570b3', linewidth=2)\n",
    "\n",
    "    ## change color and linewidth of the caps\n",
    "    for cap in bp['caps']:\n",
    "        cap.set(color='#7570b3', linewidth=2)\n",
    "\n",
    "    ## change color and linewidth of the medians\n",
    "    for median in bp['medians']:\n",
    "        median.set(color='#b2df8a', linewidth=2)\n",
    "\n",
    "    ## change the style of fliers and their fill\n",
    "    for flier in bp['fliers']:\n",
    "        flier.set(marker='o', color='#e7298a', alpha=0.5)\n",
    "\n",
    "    ax.set_xticklabels([imp[\"label\"] for imp in impls])\n",
    "\n",
    "    ## Remove top axes and right axes ticks\n",
    "    ax.get_xaxis().tick_bottom()\n",
    "    ax.get_yaxis().tick_left()\n",
    "\n",
    "    ax.set_title(title)"
   ]
  },
  {
   "cell_type": "markdown",
   "metadata": {},
   "source": [
    "### Procesamiento de Imagenes"
   ]
  },
  {
   "cell_type": "code",
   "execution_count": 5,
   "metadata": {
    "scrolled": true
   },
   "outputs": [
    {
     "name": "stdout",
     "output_type": "stream",
     "text": [
      "Creando directorios\n",
      "Listo!\n"
     ]
    }
   ],
   "source": [
    "import subprocess\n",
    "!echo Creando directorios\n",
    "!mkdir -p prec_files/data/processed/normal > /dev/null\n",
    "!mkdir prec_files/data/processed/sin_desempaquetar > /dev/null\n",
    "!mkdir prec_files/data/processed/referencia > /dev/null\n",
    "!echo Listo!\n",
    "MAX_STEP = 28\n",
    "BASE = \"prec_files/data/\"\n",
    "    \n",
    "for i in range (0, MAX_STEP+1):\n",
    "    file = \"{}.bmp\".format(i) # 17.bmp ---> /prec_files/data/17.bmp\n",
    "    subprocess.call([\"./prec_files/tp2_ref\", \"Bordes\", \"-i\", \"asm\", BASE + file, \"-o\", \"prec_files/data/processed/normal\"])\n",
    "    subprocess.call([\"./prec_files/tp2_imp\", \"Bordes\", \"-i\", \"asm\", BASE + file, \"-o\", \"prec_files/data/processed/sin_desempaquetar\"])\n",
    "    subprocess.call([\"./prec_files/tp2_ref\", \"Bordes\", \"-i\", \"c\", BASE + file, \"-o\", \"prec_files/data/processed/referencia\"])\n",
    "#!./prec_files/tp2_ref Bordes -i c prec_files/data/15.bmp -o prec_files/data/processed/referencia/"
   ]
  },
  {
   "cell_type": "markdown",
   "metadata": {},
   "source": [
    "### Obtención de Datos : Precisión (Cálculo de diferencias)"
   ]
  },
  {
   "cell_type": "code",
   "execution_count": 6,
   "metadata": {},
   "outputs": [],
   "source": [
    "def calcularDiffPromedio(filename, imp):\n",
    "    res = subprocess.check_output([\"./prec_files/avg\", \"prec_files/data/processed/\" + imp + \"/\" + filename + \".Bordes.ASM.bmp\",\n",
    "                            \"prec_files/data/processed/referencia/\" + filename + \".Bordes.C.bmp\"]).decode(\"utf-8\")\n",
    "    return float(res.split(' ')[6])\n",
    "    #!./prec_files/avg prec_files/data/processed/ref/REFERENCE_IMAGE.bmp.Bordes.ASM.bmp prec_files/data/processed/c/REFERENCE_IMAGE.bmp.Bordes.C.bmp"
   ]
  },
  {
   "cell_type": "code",
   "execution_count": 7,
   "metadata": {},
   "outputs": [
    {
     "name": "stdout",
     "output_type": "stream",
     "text": [
      "{'normal': [0.0, 0.0, 0.0, 0.0, 0.0, 0.0, 0.0, 0.0, 0.0, 0.0, 0.0, 0.0, 0.0, 0.0, 0.0, 0.0, 0.0, 0.0, 0.0, 0.0, 0.0, 0.0, 0.0, 0.0, 0.0, 0.0, 0.0, 0.0, 0.0], 'sin_desempaquetar': [7.967281, 7.972267, 7.997963, 8.361237, 10.660538, 17.731464, 28.828487, 40.402271, 50.42926, 58.641064, 64.71711, 69.37537, 72.868565, 75.401913, 77.383251, 78.712688, 79.912758, 80.855637, 81.357029, 81.895538, 82.210655, 82.793636, 83.053555, 83.280563, 83.444069, 83.529099, 83.716148, 83.858788, 84.146004]}\n"
     ]
    }
   ],
   "source": [
    "data = {\n",
    "    \"normal\" : [],\n",
    "    \"sin_desempaquetar\" : []\n",
    "}\n",
    "    \n",
    "for i in range(0, MAX_STEP + 1):\n",
    "    file = \"{}.bmp\".format(i)\n",
    "    data[\"normal\"].append(calcularDiffPromedio(file, \"normal\"))\n",
    "    data[\"sin_desempaquetar\"].append(calcularDiffPromedio(file, \"sin_desempaquetar\"))\n",
    "\n",
    "print(data)\n",
    "\n",
    "#calcularDiffPromedio(\"REFERENCE_IMAGE.bmp\", \"ref\");\n",
    "#!cd prec_files && ./avg data/processed/ref/REFERENCE_IMAGE.bmp.Bordes.ASM.bmp data/processed/c/REFERENCE_IMAGE.bmp.Bordes.C.bmp"
   ]
  },
  {
   "cell_type": "markdown",
   "metadata": {},
   "source": [
    "### Gráficos"
   ]
  },
  {
   "cell_type": "code",
   "execution_count": 8,
   "metadata": {},
   "outputs": [
    {
     "data": {
      "image/png": "[encoded data removed]",
      "text/plain": [
       "<Figure size 864x648 with 1 Axes>"
      ]
     },
     "metadata": {
      "needs_background": "light"
     },
     "output_type": "display_data"
    }
   ],
   "source": [
    "sizes = range(0, MAX_STEP+1)\n",
    "fig = plt.figure(1, figsize=(12, 9))\n",
    "plt.plot(sizes, data[\"normal\"], figure=fig, label=\"Desempaquetando\")\n",
    "plt.plot(sizes, data[\"sin_desempaquetar\"], figure=fig, label=\"Sin Desempaquetar\")\n",
    "plt.legend()\n",
    "plt.xlabel(\"Nivel de ruido (Steps)\")\n",
    "plt.ylabel(\"Diferencia promedio por pixel con la implementación en C\")\n",
    "plt.title(\"Efecto en la precisión con imagenes con ruido\")\n",
    "plt.show()"
   ]
  },
  {
   "cell_type": "markdown",
   "metadata": {},
   "source": [
    "### Obtención de Datos : Rendimiento"
   ]
  },
  {
   "cell_type": "code",
   "execution_count": 9,
   "metadata": {},
   "outputs": [],
   "source": [
    "IMPS = {\n",
    "    \"referencia\":     {\"impl\": \"c\",   \"bin\": \"tp2_ref\",    \"label\": \"C\",\n",
    "                 \"cycles\": []},\n",
    "\n",
    "    \"normal\":     {\"impl\": \"asm\",   \"bin\": \"tp2_ref\", \"label\": \"Desempaquetando\",\n",
    "                 \"cycles\": []},\n",
    "\n",
    "    \"sin_desempaquetar\":     {\"impl\": \"asm\",   \"bin\": \"tp2_imp\", \"label\": \"Sin Desempaquetar\",\n",
    "                 \"cycles\": []}\n",
    "}\n",
    "\n",
    "FILTER = \"Bordes\"\n",
    "\n",
    "def run(im, img:str, t:str=\"1\"):\n",
    "    \"\"\"Corre una implementacion y retorna el output.\"\"\"\n",
    "    # Quiero correr\n",
    "    #  ./tp2 Rombos -i asm -t 100 img/puente.bmp\n",
    "    return check_output([\"./prec_files/\"+im[\"bin\"], FILTER, \"-i\", im[\"impl\"], \"-t\", t, img]).decode(\"utf-8\")\n",
    "\n",
    "def parse_cycles(out):\n",
    "    \"\"\" Output esperado:\n",
    "0    Procesando...\n",
    "1      Filtro             : Rombos\n",
    "2      Implementación     : C\n",
    "3      Archivo de entrada : img/puente.bmp\n",
    "4    Tiempo de ejecución:\n",
    "5      Comienzo                          : 418148872718872\n",
    "6      Fin                               : 418154435946972\n",
    "7      # iteraciones                     : 100\n",
    "8      # de ciclos insumidos totales     : 5563228100\n",
    "9      # de ciclos insumidos por llamada : 55632280.000\n",
    "    \"\"\"\n",
    "    return float(out.split('\\n')[9].split(': ')[1])"
   ]
  },
  {
   "cell_type": "code",
   "execution_count": 10,
   "metadata": {},
   "outputs": [],
   "source": [
    "IMG = \"../src/img/puente.bmp\"\n",
    "\n",
    "for im in IMPS.keys():\n",
    "    for i in range (0, 100):\n",
    "        out = run(IMPS[im], IMG)\n",
    "        IMPS[im][\"cycles\"].append(parse_cycles(out))\n",
    "#print(IMPS)"
   ]
  },
  {
   "cell_type": "code",
   "execution_count": 11,
   "metadata": {},
   "outputs": [
    {
     "data": {
      "image/png": "[encoded data removed]",
      "text/plain": [
       "<Figure size 648x432 with 1 Axes>"
      ]
     },
     "metadata": {
      "needs_background": "light"
     },
     "output_type": "display_data"
    }
   ],
   "source": [
    "box_plot(IMPS.values(), \"Pepe\")"
   ]
  },
  {
   "cell_type": "code",
   "execution_count": 12,
   "metadata": {},
   "outputs": [
    {
     "data": {
      "image/png": "[encoded data removed]",
      "text/plain": [
       "<Figure size 648x432 with 1 Axes>"
      ]
     },
     "metadata": {
      "needs_background": "light"
     },
     "output_type": "display_data"
    }
   ],
   "source": [
    "box_plot(\n",
    "    [info for info in IMPS.values() if info[\"impl\"] == \"asm\"],\n",
    "    \"Ciclos por implementación de asm\"\n",
    ")"
   ]
  },
  {
   "cell_type": "markdown",
   "metadata": {},
   "source": [
    "### Borrado de binarios"
   ]
  },
  {
   "cell_type": "code",
   "execution_count": 13,
   "metadata": {},
   "outputs": [
    {
     "name": "stdout",
     "output_type": "stream",
     "text": [
      "rm: cannot remove 'img/': No such file or directory\r\n"
     ]
    }
   ],
   "source": [
    "!rm -r img/\n",
    "!rm *.bmp\n",
    "!rm -rf tp2*"
   ]
  },
  {
   "cell_type": "code",
   "execution_count": null,
   "metadata": {},
   "outputs": [],
   "source": []
  }
 ],
 "metadata": {
  "kernelspec": {
   "display_name": "Python 3",
   "language": "python",
   "name": "python3"
  },
  "language_info": {
   "codemirror_mode": {
    "name": "ipython",
    "version": 3
   },
   "file_extension": ".py",
   "mimetype": "text/x-python",
   "name": "python",
   "nbconvert_exporter": "python",
   "pygments_lexer": "ipython3",
   "version": "3.7.3"
  }
 },
 "nbformat": 4,
 "nbformat_minor": 2
}
