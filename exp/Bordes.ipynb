{
 "cells": [
  {
   "cell_type": "markdown",
   "metadata": {},
   "source": [
    "# Sin Filtro (TP2 Orga2)\n",
    "## Experimentos de Bordes 💪💪\n",
    "Vamos a probar a este muchacho...\n"
   ]
  },
  {
   "cell_type": "code",
   "execution_count": 4,
   "metadata": {},
   "outputs": [
    {
     "name": "stdout",
     "output_type": "stream",
     "text": [
      "Compilando código\n",
      "mkdir -p build\n",
      "make -C helper\n",
      "cc -ggdb -Wall -Wno-unused-parameter -Wextra -std=c99 -no-pie -pedantic -m64 -O0 -march=native bmpdiff.c ../build/libbmp.o ../build/imagenes.o ../build/utils.o -o ../build/bmpdiff\n",
      "clang: \u001b[0;1;35mwarning: \u001b[0margument unused during compilation: '-nopie' [-Wunused-command-line-argument]\u001b[0m\n",
      "make -C filters\n",
      "make[1]: Nothing to be done for `filtros'.\n",
      "cc -ggdb -Wall -Wno-unused-parameter -Wextra -std=c99 -no-pie -pedantic -m64 -O0 -march=native build/tp2.o build/cli.o build/libbmp.o build/imagenes.o build/utils.o build/Rombos.o build/Bordes.o build/Nivel.o build/Rombos_asm.o build/Bordes_asm.o build/Nivel_asm.o build/Rombos_c.o build/Bordes_c.o build/Nivel_c.o -o build/tp2 -lm\n",
      "clang: \u001b[0;1;35mwarning: \u001b[0margument unused during compilation: '-nopie' [-Wunused-command-line-argument]\u001b[0m\n",
      "Undefined symbols for architecture x86_64:\n",
      "  \"_Bordes_asm\", referenced from:\n",
      "      _aplicar_Bordes in Bordes.o\n",
      "  \"_Nivel_asm\", referenced from:\n",
      "      _aplicar_Nivel in Nivel.o\n",
      "  \"_Rombos_asm\", referenced from:\n",
      "      _aplicar_Rombos in Rombos.o\n",
      "ld: symbol(s) not found for architecture x86_64\n",
      "clang: \u001b[0;1;31merror: \u001b[0mlinker command failed with exit code 1 (use -v to see invocation)\u001b[0m\n",
      "make: *** [build/tp2] Error 1\n",
      "cp: ../src/build/tp2: No such file or directory\n"
     ]
    }
   ],
   "source": [
    "print(\"Compilando código\")\n",
    "!cd ../src && make\n",
    "!cp ../src/build/tp2 tp2\n",
    "!cp -a ../src/img img"
   ]
  },
  {
   "cell_type": "code",
   "execution_count": 20,
   "metadata": {},
   "outputs": [
    {
     "data": {
      "text/markdown": [
       "### Para ejecutar el programa"
      ],
      "text/plain": [
       "<IPython.core.display.Markdown object>"
      ]
     },
     "metadata": {},
     "output_type": "display_data"
    },
    {
     "data": {
      "text/markdown": [
       "usar: ```call([\"./tp2\", \"args\", \"to\", \"spa\"])```"
      ],
      "text/plain": [
       "<IPython.core.display.Markdown object>"
      ]
     },
     "metadata": {},
     "output_type": "display_data"
    },
    {
     "data": {
      "text/markdown": [
       "Ejemplo: ```call([\"./tp2\", \"Nivel\", \"-i\", \"asm\", \"img/puente.bmp\", \"7\"])```"
      ],
      "text/plain": [
       "<IPython.core.display.Markdown object>"
      ]
     },
     "metadata": {},
     "output_type": "display_data"
    },
    {
     "data": {
      "text/markdown": [
       "### ✨Además, tenemos unas hermosas tools para testeo"
      ],
      "text/plain": [
       "<IPython.core.display.Markdown object>"
      ]
     },
     "metadata": {},
     "output_type": "display_data"
    },
    {
     "data": {
      "text/markdown": [
       "Si hacemos iteraciones en algún test, podemos wrappear el range con ```logProgress```."
      ],
      "text/plain": [
       "<IPython.core.display.Markdown object>"
      ]
     },
     "metadata": {},
     "output_type": "display_data"
    },
    {
     "data": {
      "text/markdown": [
       "\n",
       "**Ejemplo:** ```for i in logProgress(range(0, algo.size), name=\"Lo que representan mis índices\")```"
      ],
      "text/plain": [
       "<IPython.core.display.Markdown object>"
      ]
     },
     "metadata": {},
     "output_type": "display_data"
    },
    {
     "data": {
      "text/markdown": [
       "Esto es útil nada más para cosas que toman tiempo cuantificable :P (básicamente, no instantáneo)"
      ],
      "text/plain": [
       "<IPython.core.display.Markdown object>"
      ]
     },
     "metadata": {},
     "output_type": "display_data"
    },
    {
     "data": {
      "text/markdown": [
       "\n",
       "Si no nos interesa el output de una celda en particular (porque, por ejemplo, la usamos para carga de datos en el notebook), podemos ejecutar ```clear_output()\n",
       "done()```"
      ],
      "text/plain": [
       "<IPython.core.display.Markdown object>"
      ]
     },
     "metadata": {},
     "output_type": "display_data"
    },
    {
     "data": {
      "text/markdown": [
       "al final de la misma."
      ],
      "text/plain": [
       "<IPython.core.display.Markdown object>"
      ]
     },
     "metadata": {},
     "output_type": "display_data"
    }
   ],
   "source": [
    "from subprocess import call\n",
    "from IPython.display import Markdown, display\n",
    "def printmd(string):\n",
    "    display(Markdown(string))\n",
    "\n",
    "printmd(\"### Para ejecutar el programa\")\n",
    "printmd(\"usar: ```call([\\\"./tp2\\\", \\\"args\\\", \\\"to\\\", \\\"spa\\\"])```\")\n",
    "printmd(\"Ejemplo: ```call([\\\"./tp2\\\", \\\"Nivel\\\", \\\"-i\\\", \\\"asm\\\", \\\"img/puente.bmp\\\", \\\"7\\\"])```\")\n",
    "    \n",
    "printmd(\"### ✨Además, tenemos unas hermosas tools para testeo\")\n",
    "printmd(\"Si hacemos iteraciones en algún test, podemos wrappear el range con ```logProgress```.\")\n",
    "printmd(\"\\n**Ejemplo:** ```for i in logProgress(range(0, algo.size), name=\\\"Lo que representan mis índices\\\")```\")\n",
    "printmd(\"Esto es útil nada más para cosas que toman tiempo cuantificable :P (básicamente, no instantáneo)\")\n",
    "\n",
    "printmd(\"\\nSi no nos interesa el output de una celda en particular (porque, por ejemplo, la usamos para carga de datos en el notebook), podemos ejecutar ```clear_output()\\ndone()```\")\n",
    "printmd(\"al final de la misma.\")"
   ]
  },
  {
   "cell_type": "code",
   "execution_count": 13,
   "metadata": {},
   "outputs": [
    {
     "name": "stdout",
     "output_type": "stream",
     "text": [
      "/Users/vpomsztein/Documents/PrivateRepositories/orga2-shared/tp2/exp\n",
      "Python 3.7.3\n"
     ]
    }
   ],
   "source": [
    "# Verifico la correcta instalación. Si no falla el import está OK\n",
    "!pwd\n",
    "!python --version\n",
    "import numpy as np\n",
    "import matplotlib.pyplot as plt\n",
    "import matplotlib.patches as mpatches\n",
    "from IPython.display import clear_output"
   ]
  },
  {
   "cell_type": "code",
   "execution_count": 14,
   "metadata": {},
   "outputs": [],
   "source": [
    "def logProgress(sequence, every=None, size=None, name='Items'):\n",
    "    from ipywidgets import IntProgress, HTML, VBox\n",
    "    from IPython.display import display\n",
    "\n",
    "    is_iterator = False\n",
    "    if size is None:\n",
    "        try:\n",
    "            size = len(sequence)\n",
    "        except TypeError:\n",
    "            is_iterator = True\n",
    "    if size is not None:\n",
    "        if every is None:\n",
    "            if size <= 200:\n",
    "                every = 1\n",
    "            else:\n",
    "                every = int(size / 200)     # every 0.5%\n",
    "    else:\n",
    "        assert every is not None, 'sequence is iterator, set every'\n",
    "\n",
    "    if is_iterator:\n",
    "        progress = IntProgress(min=0, max=1, value=1)\n",
    "        progress.bar_style = 'info'\n",
    "    else:\n",
    "        progress = IntProgress(min=0, max=size, value=0)\n",
    "    label = HTML()\n",
    "    box = VBox(children=[label, progress])\n",
    "    display(box)\n",
    "\n",
    "    index = 0\n",
    "    try:\n",
    "        for index, record in enumerate(sequence, 1):\n",
    "            if index == 1 or index % every == 0:\n",
    "                if is_iterator:\n",
    "                    label.value = '{name}: {index} / ?'.format(\n",
    "                        name=name,\n",
    "                        index=index\n",
    "                    )\n",
    "                else:\n",
    "                    progress.value = index\n",
    "                    label.value = u'{name}: {index} / {size}'.format(\n",
    "                        name=name,\n",
    "                        index=index,\n",
    "                        size=size\n",
    "                    )\n",
    "            yield record\n",
    "    except:\n",
    "        progress.bar_style = 'danger'\n",
    "        raise\n",
    "    else:\n",
    "        progress.bar_style = 'success'\n",
    "        progress.value = index\n",
    "        label.value = \"{name}: {index}\".format(\n",
    "            name=name,\n",
    "            index=str(index or '?')\n",
    "        )\n",
    "        \n",
    "def done():\n",
    "    print(\"Done!\\n\\n✨\\n  ⊂_ヽ\\n 　 ＼＼ \\n　　 ＼( ͡° ͜ʖ ͡°)\\n　　　 >　⌒ヽ\\n　　　/ 　 へ＼\\n　　 /　　/　＼＼\\n　　 ﾚ　ノ　　 ヽ_つ\\n　　/　/\\n　 /　/|\\n　(　(ヽ\\n　|　|、＼\\n　| 丿 ＼ ⌒)\\n　| | 　　) /\\nノ )　　Lﾉ\\n(_／)\")\n",
    "    \n",
    "def rmse(errorCuadratico, n):\n",
    "    return np.sqrt(1/n * errorCuadratico)"
   ]
  },
  {
   "cell_type": "markdown",
   "metadata": {},
   "source": [
    "## Celda de muestra a continuación!\n",
    "\n",
    "Es de carga de datos en notebook (notar el uso de clear_output y done al final, porque el output de la celda no me interesa)"
   ]
  },
  {
   "cell_type": "code",
   "execution_count": 4,
   "metadata": {},
   "outputs": [
    {
     "name": "stdout",
     "output_type": "stream",
     "text": [
      "Done!\n",
      "\n",
      "✨\n",
      "  ⊂_ヽ\n",
      " 　 ＼＼ \n",
      "　　 ＼( ͡° ͜ʖ ͡°)\n",
      "　　　 >　⌒ヽ\n",
      "　　　/ 　 へ＼\n",
      "　　 /　　/　＼＼\n",
      "　　 ﾚ　ノ　　 ヽ_つ\n",
      "　　/　/\n",
      "　 /　/|\n",
      "　(　(ヽ\n",
      "　|　|、＼\n",
      "　| 丿 ＼ ⌒)\n",
      "　| | 　　) /\n",
      "ノ )　　Lﾉ\n",
      "(_／)\n"
     ]
    }
   ],
   "source": [
    "%load_ext autoreload\n",
    "%autoreload 2\n",
    "import pandas as pd\n",
    "\n",
    "## Set start and end years, then let the magic begin. \n",
    "## Note that all files should be under a \"datos\" folder inside notebooks, file format should be year.csv\n",
    "startYear = 1987\n",
    "endYear = 2008\n",
    "\n",
    "dataByYear = {}\n",
    "for i in logProgress(range(startYear, endYear + 1), name=\"Year\"):\n",
    "#     print(\"Loading {}\".format(i))\n",
    "    dataByYear[i] = pd.read_csv(\"datos/{}.csv\".format(i), index_col=0, encoding=\"ISO-8859-1\")\n",
    "    \n",
    "\n",
    "clear_output()\n",
    "done()"
   ]
  }
 ],
 "metadata": {
  "kernelspec": {
   "display_name": "Python 3",
   "language": "python",
   "name": "python3"
  },
  "language_info": {
   "codemirror_mode": {
    "name": "ipython",
    "version": 3
   },
   "file_extension": ".py",
   "mimetype": "text/x-python",
   "name": "python",
   "nbconvert_exporter": "python",
   "pygments_lexer": "ipython3",
   "version": "3.7.3"
  }
 },
 "nbformat": 4,
 "nbformat_minor": 2
}
