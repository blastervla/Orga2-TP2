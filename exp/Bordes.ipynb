{
 "cells": [
  {
   "cell_type": "markdown",
   "metadata": {},
   "source": [
    "# Sin Filtro (TP2 Orga2)\n",
    "## Experimentos de Bordes 💪💪"
   ]
  },
  {
   "cell_type": "markdown",
   "metadata": {},
   "source": [
    "### Compilado de código"
   ]
  },
  {
   "cell_type": "code",
   "execution_count": null,
   "metadata": {
    "scrolled": false
   },
   "outputs": [],
   "source": [
    "!cp -a ../src/img img\n",
    "!cd ../src && make all\n",
    "!cp ../src/build/tp2 .\n",
    "!cp ../src/build/tp2_im2 .\n",
    "!cp ../src/build/tp2_im4 .\n",
    "!cp ../src/build/tp2_im8 ."
   ]
  },
  {
   "cell_type": "markdown",
   "metadata": {},
   "source": [
    "### Imports"
   ]
  },
  {
   "cell_type": "code",
   "execution_count": null,
   "metadata": {},
   "outputs": [],
   "source": [
    "# Verifico la correcta instalación. Si no falla el import está OK\n",
    "#!/usr/bin/env python3\n",
    "!pwd\n",
    "!python3 --version\n",
    "\n",
    "#import numpy as np\n",
    "\n",
    "import matplotlib.pyplot as plt\n",
    "import matplotlib.patches as mpatches\n",
    "\n",
    "from IPython.display import Markdown, display\n",
    "from IPython.display import clear_output\n",
    "\n",
    "from subprocess import check_output\n",
    "\n",
    "from ipywidgets import IntProgress, HTML, VBox"
   ]
  },
  {
   "cell_type": "markdown",
   "metadata": {},
   "source": [
    "### Utilidades"
   ]
  },
  {
   "cell_type": "code",
   "execution_count": null,
   "metadata": {},
   "outputs": [],
   "source": [
    "def logProgress(sequence, every=None, size=None, name='Items'):\n",
    "    from ipywidgets import IntProgress, HTML, VBox\n",
    "    from IPython.display import display\n",
    "\n",
    "    is_iterator = False\n",
    "    if size is None:\n",
    "        try:\n",
    "            size = len(sequence)\n",
    "        except TypeError:\n",
    "            is_iterator = True\n",
    "    if size is not None:\n",
    "        if every is None:\n",
    "            if size <= 200:\n",
    "                every = 1\n",
    "            else:\n",
    "                every = int(size / 200)     # every 0.5%\n",
    "    else:\n",
    "        assert every is not None, 'sequence is iterator, set every'\n",
    "\n",
    "    if is_iterator:\n",
    "        progress = IntProgress(min=0, max=1, value=1)\n",
    "        progress.bar_style = 'info'\n",
    "    else:\n",
    "        progress = IntProgress(min=0, max=size, value=0)\n",
    "    label = HTML()\n",
    "    box = VBox(children=[label, progress])\n",
    "    display(box)\n",
    "\n",
    "    index = 0\n",
    "    try:\n",
    "        for index, record in enumerate(sequence, 1):\n",
    "            if index == 1 or index % every == 0:\n",
    "                if is_iterator:\n",
    "                    label.value = '{name}: {index} / ?'.format(\n",
    "                        name=name,\n",
    "                        index=index\n",
    "                    )\n",
    "                else:\n",
    "                    progress.value = index\n",
    "                    label.value = u'{name}: {index} / {size}'.format(\n",
    "                        name=name,\n",
    "                        index=index,\n",
    "                        size=size\n",
    "                    )\n",
    "            yield record\n",
    "    except:\n",
    "        progress.bar_style = 'danger'\n",
    "        raise\n",
    "    else:\n",
    "        progress.bar_style = 'success'\n",
    "        progress.value = index\n",
    "        label.value = \"{name}: {index}\".format(\n",
    "            name=name,\n",
    "            index=str(index or '?')\n",
    "        )\n",
    "        \n",
    "def done():\n",
    "    print(\"Done!\\n\\n✨\\n  ⊂_ヽ\\n 　 ＼＼ \\n　　 ＼( ͡° ͜ʖ ͡°)\\n　　　 >　⌒ヽ\\n　　　/ 　 へ＼\\n　　 /　　/　＼＼\\n　　 ﾚ　ノ　　 ヽ_つ\\n　　/　/\\n　 /　/|\\n　(　(ヽ\\n　|　|、＼\\n　| 丿 ＼ ⌒)\\n　| | 　　) /\\nノ )　　Lﾉ\\n(_／)\")\n",
    "    \n",
    "def rmse(errorCuadratico, n):\n",
    "    return np.sqrt(1/n * errorCuadratico)"
   ]
  },
  {
   "cell_type": "code",
   "execution_count": null,
   "metadata": {},
   "outputs": [],
   "source": [
    "def box_plot(impls, title):\n",
    "    ## Create boxplots\n",
    "    # Create a figure instance\n",
    "    fig = plt.figure(1, figsize=(9, 6))\n",
    "\n",
    "    # Create an axes instance\n",
    "    ax = fig.add_subplot(111)\n",
    "\n",
    "    dataToPlot = [imp[\"data\"] for imp in impls]\n",
    "\n",
    "    # Create the boxplot\n",
    "    ## add patch_artist=True option to ax.boxplot() \n",
    "    ## to get fill color\n",
    "    bp = ax.boxplot(dataToPlot, patch_artist=True, showfliers=False)\n",
    "\n",
    "    ## change outline color, fill color and linewidth of the boxes\n",
    "    for box in bp['boxes']:\n",
    "        # change outline color\n",
    "        box.set( color='#7570b3', linewidth=2)\n",
    "        # change fill color\n",
    "        box.set( facecolor = '#1b9e77' )\n",
    "\n",
    "    ## change color and linewidth of the whiskers\n",
    "    for whisker in bp['whiskers']:\n",
    "        whisker.set(color='#7570b3', linewidth=2)\n",
    "\n",
    "    ## change color and linewidth of the caps\n",
    "    for cap in bp['caps']:\n",
    "        cap.set(color='#7570b3', linewidth=2)\n",
    "\n",
    "    ## change color and linewidth of the medians\n",
    "    for median in bp['medians']:\n",
    "        median.set(color='#b2df8a', linewidth=2)\n",
    "\n",
    "    ## change the style of fliers and their fill\n",
    "    for flier in bp['fliers']:\n",
    "        flier.set(marker='o', color='#e7298a', alpha=0.5)\n",
    "\n",
    "    ax.set_xticklabels([imp[\"label\"] for imp in impls])\n",
    "\n",
    "    ## Remove top axes and right axes ticks\n",
    "    ax.get_xaxis().tick_bottom()\n",
    "    ax.get_yaxis().tick_left()\n",
    "\n",
    "    ax.set_title(title)"
   ]
  },
  {
   "cell_type": "markdown",
   "metadata": {},
   "source": [
    "### Obtención de Datos"
   ]
  },
  {
   "cell_type": "code",
   "execution_count": null,
   "metadata": {
    "scrolled": true
   },
   "outputs": [],
   "source": [
    "IMPS = {\n",
    "    \"asm\":      {\"bin\": \"tp2\",        \"label\": \"asm\",       \"data\": []},\n",
    "    \"asm_2x\":   {\"bin\": \"tp2_im2\",    \"label\": \"asm 2x\",       \"data\": []},\n",
    "    \"asm_4x\":   {\"bin\": \"tp2_im4\",    \"label\": \"asm 4x\",       \"data\": []},\n",
    "    \"asm_8x\":   {\"bin\": \"tp2_im8\",    \"label\": \"asm 8x\",       \"data\": []}\n",
    "}\n",
    "\n",
    "FILTER = \"Bordes\"\n",
    "ITER   = \"1000\"\n",
    "IMG    = \"img/puente.bmp\"\n",
    "\n",
    "def run(im, img:str, t:str=ITER):\n",
    "    \"\"\"Corre una implementacion y retorna el output.\"\"\"\n",
    "    # Quiero correr\n",
    "    #  ./tp2 Rombos -i asm -t 100 img/puente.bmp\n",
    "    return check_output([\"./\"+im[\"bin\"], FILTER, \"-i\", \"asm\", \"-t\", t, img]).decode(\"utf-8\")\n",
    "\n",
    "def parse_cycles(out):\n",
    "    \"\"\" Output esperado:\n",
    "0    Procesando...\n",
    "1      Filtro             : Rombos\n",
    "2      Implementación     : C\n",
    "3      Archivo de entrada : img/puente.bmp\n",
    "4    Tiempo de ejecución:\n",
    "5      Comienzo                          : 418148872718872\n",
    "6      Fin                               : 418154435946972\n",
    "7      # iteraciones                     : 100\n",
    "8      # de ciclos insumidos totales     : 5563228100\n",
    "9      # de ciclos insumidos por llamada : 55632280.000\n",
    "    \"\"\"\n",
    "    return float(out.split('\\n')[9].split(': ')[1])"
   ]
  },
  {
   "cell_type": "code",
   "execution_count": null,
   "metadata": {},
   "outputs": [],
   "source": [
    "for im in logProgress(IMPS.keys(), name=\"Implementación\"):\n",
    "    #for _ in logProgress(range(0,100), name=\"Iteración\"):\n",
    "        out = run(IMPS[im], img=\"img/puente.bmp\", t=\"20\")\n",
    "        cycles = parse_cycles(out)\n",
    "        IMPS[im][\"data\"].append(cycles)"
   ]
  },
  {
   "cell_type": "markdown",
   "metadata": {},
   "source": [
    "### Gráficos"
   ]
  },
  {
   "cell_type": "code",
   "execution_count": null,
   "metadata": {},
   "outputs": [],
   "source": [
    "box_plot(IMPS.values(), \"Ciclos por implementación y optimización\")"
   ]
  },
  {
   "cell_type": "markdown",
   "metadata": {},
   "source": [
    "### Borrado de binarios"
   ]
  },
  {
   "cell_type": "code",
   "execution_count": 1,
   "metadata": {},
   "outputs": [],
   "source": [
    "!rm -r img/\n",
    "!rm *.bmp\n",
    "!rm -rf tp2*"
   ]
  },
  {
   "cell_type": "code",
   "execution_count": null,
   "metadata": {},
   "outputs": [],
   "source": []
  }
 ],
 "metadata": {
  "kernelspec": {
   "display_name": "Python 3",
   "language": "python",
   "name": "python3"
  },
  "language_info": {
   "codemirror_mode": {
    "name": "ipython",
    "version": 3
   },
   "file_extension": ".py",
   "mimetype": "text/x-python",
   "name": "python",
   "nbconvert_exporter": "python",
   "pygments_lexer": "ipython3",
   "version": "3.7.3"
  }
 },
 "nbformat": 4,
 "nbformat_minor": 2
}
