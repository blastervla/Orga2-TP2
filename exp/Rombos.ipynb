{
 "cells": [
  {
   "cell_type": "markdown",
   "metadata": {},
   "source": [
    "# Sin Filtro (TP2 Orga2)\n",
    "\n",
    "## Experimentos de Rombos"
   ]
  },
  {
   "cell_type": "markdown",
   "metadata": {},
   "source": [
    "### Compilado de codigo"
   ]
  },
  {
   "cell_type": "code",
   "execution_count": 1,
   "metadata": {
    "scrolled": true
   },
   "outputs": [
    {
     "name": "stdout",
     "output_type": "stream",
     "text": [
      "rm -fr build/*\n",
      "mkdir -p build\n",
      "make -C helper\n",
      "make[1]: Entering directory '/home/mnpanic/repositorios/exactas/tp2/src/helper'\n",
      "cc -ggdb -Wall -Wno-unused-parameter -Wextra -std=c99 -no-pie -pedantic -m64 -O0 -march=native -c -o ../build/libbmp.o libbmp.c\n",
      "cc -ggdb -Wall -Wno-unused-parameter -Wextra -std=c99 -no-pie -pedantic -m64 -O0 -march=native -c -o ../build/imagenes.o imagenes.c\n",
      "cc -ggdb -Wall -Wno-unused-parameter -Wextra -std=c99 -no-pie -pedantic -m64 -O0 -march=native -c -o ../build/utils.o utils.c\n",
      "cc -ggdb -Wall -Wno-unused-parameter -Wextra -std=c99 -no-pie -pedantic -m64 -O0 -march=native bmpdiff.c ../build/libbmp.o ../build/imagenes.o ../build/utils.o -o ../build/bmpdiff\n",
      "make[1]: Leaving directory '/home/mnpanic/repositorios/exactas/tp2/src/helper'\n",
      "make -C filters\n",
      "make[1]: Entering directory '/home/mnpanic/repositorios/exactas/tp2/src/filters'\n",
      "cc -ggdb -Wall -Wno-unused-parameter -Wextra -std=c99 -no-pie -pedantic -m64 -O0 -march=native -c -o ../build/Rombos.o Rombos.c\n",
      "cc -ggdb -Wall -Wno-unused-parameter -Wextra -std=c99 -no-pie -pedantic -m64 -O0 -march=native -c -o ../build/Nivel.o Nivel.c\n",
      "cc -ggdb -Wall -Wno-unused-parameter -Wextra -std=c99 -no-pie -pedantic -m64 -O0 -march=native -c -o ../build/Bordes.o Bordes.c\n",
      "nasm -felf64 -g -F dwarf -o ../build/Rombos_asm.o Rombos_asm.asm\n",
      "nasm -felf64 -g -F dwarf -o ../build/Nivel_asm.o Nivel_asm.asm\n",
      "nasm -felf64 -g -F dwarf -o ../build/Bordes_asm.o Bordes_asm.asm\n",
      "cc -ggdb -Wall -Wno-unused-parameter -Wextra -std=c99 -no-pie -pedantic -m64 -O0 -march=native -c -o ../build/Rombos_c.o Rombos_c.c\n",
      "cc -ggdb -Wall -Wno-unused-parameter -Wextra -std=c99 -no-pie -pedantic -m64 -O0 -march=native -c -o ../build/Nivel_c.o Nivel_c.c\n",
      "cc -ggdb -Wall -Wno-unused-parameter -Wextra -std=c99 -no-pie -pedantic -m64 -O0 -march=native -c -o ../build/Bordes_c.o Bordes_c.c\n",
      "make[1]: Leaving directory '/home/mnpanic/repositorios/exactas/tp2/src/filters'\n",
      "cc -ggdb -Wall -Wno-unused-parameter -Wextra -std=c99 -no-pie -pedantic -m64 -O0 -march=native -c -o build/tp2.o tp2.c -lm\n",
      "cc -ggdb -Wall -Wno-unused-parameter -Wextra -std=c99 -no-pie -pedantic -m64 -O0 -march=native -c -o build/cli.o cli.c -lm\n",
      "cc -ggdb -Wall -Wno-unused-parameter -Wextra -std=c99 -no-pie -pedantic -m64 -O0 -march=native build/tp2.o build/cli.o build/libbmp.o build/imagenes.o build/utils.o build/Rombos.o build/Bordes.o build/Nivel.o build/Rombos_asm.o build/Bordes_asm.o build/Nivel_asm.o build/Rombos_c.o build/Bordes_c.o build/Nivel_c.o -o build/tp2 -lm\n",
      "mkdir -p build\n",
      "make -C helper\n",
      "make[1]: Entering directory '/home/mnpanic/repositorios/exactas/tp2/src/helper'\n",
      "cc -ggdb -Wall -Wno-unused-parameter -Wextra -std=c99 -no-pie -pedantic -m64 -O0 -march=native bmpdiff.c ../build/libbmp.o ../build/imagenes.o ../build/utils.o -o ../build/bmpdiff\n",
      "make[1]: Leaving directory '/home/mnpanic/repositorios/exactas/tp2/src/helper'\n",
      "make -C filters\n",
      "make[1]: Entering directory '/home/mnpanic/repositorios/exactas/tp2/src/filters'\n",
      "make[1]: Nothing to be done for 'filtros'.\n",
      "make[1]: Leaving directory '/home/mnpanic/repositorios/exactas/tp2/src/filters'\n",
      "cc -ggdb -Wall -Wno-unused-parameter -Wextra -std=c99 -no-pie -pedantic -m64 -O1 -march=native build/tp2.o build/cli.o build/libbmp.o build/imagenes.o build/utils.o build/Rombos.o build/Bordes.o build/Nivel.o build/Rombos_asm.o build/Bordes_asm.o build/Nivel_asm.o build/Rombos_c.o build/Bordes_c.o build/Nivel_c.o -o build/tp2_O1 -lm\n",
      "mkdir -p build\n",
      "make -C helper\n",
      "make[1]: Entering directory '/home/mnpanic/repositorios/exactas/tp2/src/helper'\n",
      "cc -ggdb -Wall -Wno-unused-parameter -Wextra -std=c99 -no-pie -pedantic -m64 -O0 -march=native bmpdiff.c ../build/libbmp.o ../build/imagenes.o ../build/utils.o -o ../build/bmpdiff\n",
      "make[1]: Leaving directory '/home/mnpanic/repositorios/exactas/tp2/src/helper'\n",
      "make -C filters\n",
      "make[1]: Entering directory '/home/mnpanic/repositorios/exactas/tp2/src/filters'\n",
      "make[1]: Nothing to be done for 'filtros'.\n",
      "make[1]: Leaving directory '/home/mnpanic/repositorios/exactas/tp2/src/filters'\n",
      "cc -ggdb -Wall -Wno-unused-parameter -Wextra -std=c99 -no-pie -pedantic -m64 -O2 -march=native build/tp2.o build/cli.o build/libbmp.o build/imagenes.o build/utils.o build/Rombos.o build/Bordes.o build/Nivel.o build/Rombos_asm.o build/Bordes_asm.o build/Nivel_asm.o build/Rombos_c.o build/Bordes_c.o build/Nivel_c.o -o build/tp2_O2 -lm\n",
      "mkdir -p build\n",
      "make -C helper\n",
      "make[1]: Entering directory '/home/mnpanic/repositorios/exactas/tp2/src/helper'\n",
      "cc -ggdb -Wall -Wno-unused-parameter -Wextra -std=c99 -no-pie -pedantic -m64 -O0 -march=native bmpdiff.c ../build/libbmp.o ../build/imagenes.o ../build/utils.o -o ../build/bmpdiff\n",
      "make[1]: Leaving directory '/home/mnpanic/repositorios/exactas/tp2/src/helper'\n",
      "make -C filters\n",
      "make[1]: Entering directory '/home/mnpanic/repositorios/exactas/tp2/src/filters'\n",
      "make[1]: Nothing to be done for 'filtros'.\n",
      "make[1]: Leaving directory '/home/mnpanic/repositorios/exactas/tp2/src/filters'\n",
      "cc -ggdb -Wall -Wno-unused-parameter -Wextra -std=c99 -no-pie -pedantic -m64 -O3 -march=native build/tp2.o build/cli.o build/libbmp.o build/imagenes.o build/utils.o build/Rombos.o build/Bordes.o build/Nivel.o build/Rombos_asm.o build/Bordes_asm.o build/Nivel_asm.o build/Rombos_c.o build/Bordes_c.o build/Nivel_c.o -o build/tp2_O3 -lm\n"
     ]
    }
   ],
   "source": [
    "# Copio las imagenes\n",
    "!cp -R ../src/tests/data img/\n",
    "\n",
    "# Compilo con los diferentes niveles de optimización\n",
    "!cd ../src && make clean && make\n",
    "!cp ../src/build/tp2 tp2\n",
    "!cd ../src && make C_OPT=O1 C_BIN=tp2_O1\n",
    "!cp ../src/build/tp2 tp2_O1\n",
    "!cd ../src && make C_OPT=O2 C_BIN=tp2_O2\n",
    "!cp ../src/build/tp2 tp2_O2\n",
    "!cd ../src && make C_OPT=O3 C_BIN=tp2_O3\n",
    "!cp ../src/build/tp2 tp2_O3\n"
   ]
  },
  {
   "cell_type": "markdown",
   "metadata": {},
   "source": [
    "### Imports"
   ]
  },
  {
   "cell_type": "code",
   "execution_count": 2,
   "metadata": {
    "scrolled": true
   },
   "outputs": [
    {
     "name": "stdout",
     "output_type": "stream",
     "text": [
      "/home/mnpanic/repositorios/exactas/tp2/exp\n",
      "Python 3.6.8\n"
     ]
    }
   ],
   "source": [
    "# Verifico la correcta instalación. Si no falla el import está OK\n",
    "#!/usr/bin/env python3\n",
    "!pwd\n",
    "!python3 --version\n",
    "\n",
    "#import numpy as np\n",
    "\n",
    "import matplotlib.pyplot as plt\n",
    "import matplotlib.patches as mpatches\n",
    "\n",
    "from IPython.display import Markdown, display\n",
    "from IPython.display import clear_output\n",
    "\n",
    "from subprocess import check_output\n",
    "\n",
    "from ipywidgets import IntProgress, HTML, VBox"
   ]
  },
  {
   "cell_type": "markdown",
   "metadata": {},
   "source": [
    "### Utilidades"
   ]
  },
  {
   "cell_type": "code",
   "execution_count": 3,
   "metadata": {
    "scrolled": true
   },
   "outputs": [],
   "source": [
    "def printmd(string):\n",
    "    display(Markdown(string))\n",
    "\n",
    "def logProgress(sequence, every=None, size=None, name='Items'):\n",
    "    is_iterator = False\n",
    "    if size is None:\n",
    "        try:\n",
    "            size = len(sequence)\n",
    "        except TypeError:\n",
    "            is_iterator = True\n",
    "    if size is not None:\n",
    "        if every is None:\n",
    "            if size <= 200:\n",
    "                every = 1\n",
    "            else:\n",
    "                every = int(size / 200)     # every 0.5%\n",
    "    else:\n",
    "        assert every is not None, 'sequence is iterator, set every'\n",
    "\n",
    "    if is_iterator:\n",
    "        progress = IntProgress(min=0, max=1, value=1)\n",
    "        progress.bar_style = 'info'\n",
    "    else:\n",
    "        progress = IntProgress(min=0, max=size, value=0)\n",
    "    label = HTML()\n",
    "    box = VBox(children=[label, progress])\n",
    "    display(box)\n",
    "\n",
    "    index = 0\n",
    "    try:\n",
    "        for index, record in enumerate(sequence, 1):\n",
    "            if index == 1 or index % every == 0:\n",
    "                if is_iterator:\n",
    "                    label.value = '{name}: {index} / ?'.format(\n",
    "                        name=name,\n",
    "                        index=index\n",
    "                    )\n",
    "                else:\n",
    "                    progress.value = index\n",
    "                    label.value = u'{name}: {index} / {size}'.format(\n",
    "                        name=name,\n",
    "                        index=index,\n",
    "                        size=size\n",
    "                    )\n",
    "            yield record\n",
    "    except:\n",
    "        progress.bar_style = 'danger'\n",
    "        raise\n",
    "    else:\n",
    "        progress.bar_style = 'success'\n",
    "        progress.value = index\n",
    "        label.value = \"{name}: {index}\".format(\n",
    "            name=name,\n",
    "            index=str(index or '?')\n",
    "        )\n",
    "        \n",
    "def done():\n",
    "    print(\"Done!\\n\\n✨\\n  ⊂_ヽ\\n 　 ＼＼ \\n　　 ＼( ͡° ͜ʖ ͡°)\\n　　　 >　⌒ヽ\\n　　　/ 　 へ＼\\n　　 /　　/　＼＼\\n　　 ﾚ　ノ　　 ヽ_つ\\n　　/　/\\n　 /　/|\\n　(　(ヽ\\n　|　|、＼\\n　| 丿 ＼ ⌒)\\n　| | 　　) /\\nノ )　　Lﾉ\\n(_／)\")\n",
    "    \n",
    "def rmse(errorCuadratico, n):\n",
    "    return np.sqrt(1/n * errorCuadratico)"
   ]
  },
  {
   "cell_type": "code",
   "execution_count": 4,
   "metadata": {},
   "outputs": [],
   "source": [
    "def box_plot(impls, title):\n",
    "    ## Create boxplots\n",
    "    # Create a figure instance\n",
    "    fig = plt.figure(1, figsize=(9, 6))\n",
    "\n",
    "    # Create an axes instance\n",
    "    ax = fig.add_subplot(111)\n",
    "\n",
    "    dataToPlot = [imp[\"cycles\"] for imp in impls]\n",
    "\n",
    "    # Create the boxplot\n",
    "    ## add patch_artist=True option to ax.boxplot() \n",
    "    ## to get fill color\n",
    "    bp = ax.boxplot(dataToPlot, patch_artist=True, showfliers=False)\n",
    "\n",
    "    ## change outline color, fill color and linewidth of the boxes\n",
    "    for box in bp['boxes']:\n",
    "        # change outline color\n",
    "        box.set( color='#7570b3', linewidth=2)\n",
    "        # change fill color\n",
    "        box.set( facecolor = '#1b9e77' )\n",
    "\n",
    "    ## change color and linewidth of the whiskers\n",
    "    for whisker in bp['whiskers']:\n",
    "        whisker.set(color='#7570b3', linewidth=2)\n",
    "\n",
    "    ## change color and linewidth of the caps\n",
    "    for cap in bp['caps']:\n",
    "        cap.set(color='#7570b3', linewidth=2)\n",
    "\n",
    "    ## change color and linewidth of the medians\n",
    "    for median in bp['medians']:\n",
    "        median.set(color='#b2df8a', linewidth=2)\n",
    "\n",
    "    ## change the style of fliers and their fill\n",
    "    for flier in bp['fliers']:\n",
    "        flier.set(marker='o', color='#e7298a', alpha=0.5)\n",
    "\n",
    "    ax.set_xticklabels([imp[\"label\"] for imp in impls])\n",
    "\n",
    "    ## Remove top axes and right axes ticks\n",
    "    ax.get_xaxis().tick_bottom()\n",
    "    ax.get_yaxis().tick_left()\n",
    "\n",
    "    ax.set_title(title)"
   ]
  },
  {
   "cell_type": "code",
   "execution_count": 5,
   "metadata": {},
   "outputs": [
    {
     "name": "stdout",
     "output_type": "stream",
     "text": [
      "BigFish.bmp\n",
      "  8192x4800\n",
      "  4096x2400\n",
      "  2048x1200\n",
      "  1024x600\n",
      "  512x300\n",
      "  256x150\n",
      "  128x75\n",
      "  64x37\n",
      "  32x18\n",
      "\n"
     ]
    }
   ],
   "source": [
    "import subprocess\n",
    "\n",
    "IMGS  = [\"BigFish.bmp\"]\n",
    "# aspect ratio: 16:9\n",
    "SIZES = ['8192x4800','4096x2400' ,'2048x1200','1024x600','512x300', '256x150', '128x75', '64x37', '32x18']\n",
    "DIR = \"img/\"\n",
    "\n",
    "# Robado sin verguenza de src/tests/1_generar_imagenes.py\n",
    "for filename in IMGS:\n",
    "    print(filename)\n",
    "    for size in SIZES:\n",
    "        print(\"  \" + size)\n",
    "        name = filename.split('.')\n",
    "        file_in  = DIR + filename\n",
    "        file_out = DIR + \"/\" + name[0] + \".\" + size + \".\" + name[1]\n",
    "        resize = \"convert -resize \" + size + \"! \" + file_in + \" \" + file_out\n",
    "        subprocess.call(resize, shell=True)\n",
    "    print(\"\")"
   ]
  },
  {
   "cell_type": "markdown",
   "metadata": {},
   "source": [
    "### Obtencion de datos"
   ]
  },
  {
   "cell_type": "code",
   "execution_count": 6,
   "metadata": {
    "scrolled": true
   },
   "outputs": [],
   "source": [
    "IMPS = {\n",
    "    \"asm\":      {\"impl\": \"asm\", \"bin\": \"tp2\",    \"label\": \"asm\",\n",
    "                 \"cycles\": [], \"cycles_per_img\": []},\n",
    "\n",
    "    \"asm_pclc\": {\"impl\": \"exp\", \"bin\": \"tp2\",    \"label\": \"asm (pclc)\",\n",
    "                 \"cycles\": [], \"cycles_per_img\": []},\n",
    "\n",
    "    \"c_O0\":     {\"impl\": \"c\",   \"bin\": \"tp2\",    \"label\": \"c O0\",\n",
    "                 \"cycles\": [], \"cycles_per_img\": []},\n",
    "\n",
    "    \"c_O1\":     {\"impl\": \"c\",   \"bin\": \"tp2_O1\", \"label\": \"c O1\",\n",
    "                 \"cycles\": [], \"cycles_per_img\": []},\n",
    "\n",
    "    \"c_O3\":     {\"impl\": \"c\",   \"bin\": \"tp2_O3\", \"label\": \"c O2\",\n",
    "                 \"cycles\": [], \"cycles_per_img\": []},\n",
    "\n",
    "    \"c_O2\":     {\"impl\": \"c\",   \"bin\": \"tp2_O2\", \"label\": \"c O3\",\n",
    "                 \"cycles\": [], \"cycles_per_img\": []},\n",
    "\n",
    "}\n",
    "\n",
    "IMGS = {\n",
    "    #\"ncfom\":                \"img/NoCountryForOldMen.bmp\",\n",
    "    #\"wargames\":             \"img/Wargames.bmp\",\n",
    "    #\"big_fish\":             \"img/BigFish.bmp\",\n",
    "    \"big_fish_32x18\":       \"img/BigFish.32x18.bmp\",\n",
    "    \"big_fish_64x37\":       \"img/BigFish.64x37.bmp\",\n",
    "    \"big_fish_128x75\":      \"img/BigFish.128x75.bmp\",\n",
    "    \"big_fish_256x150\":     \"img/BigFish.256x150.bmp\",\n",
    "    \"big_fish_512x300\":     \"img/BigFish.512x300.bmp\",\n",
    "    \"big_fish_1024x600\":    \"img/BigFish.1024x600.bmp\",\n",
    "    \"big_fish_2048x1200\":   \"img/BigFish.2048x1200.bmp\",\n",
    "    \"big_fish_4096x2400\":   \"img/BigFish.4096x2400.bmp\",\n",
    "    \"big_fish_8192x4800\":   \"img/BigFish.8192x4800.bmp\",\n",
    "}\n",
    "\n",
    "\n",
    "FILTER = \"Rombos\"\n",
    "ITER   = \"50\"\n",
    "\n",
    "def run(im, img:str, t:str=ITER):\n",
    "    \"\"\"Corre una implementacion y retorna el output.\"\"\"\n",
    "    # Quiero correr\n",
    "    #  ./tp2 Rombos -i asm -t 100 img/puente.bmp\n",
    "    return check_output([\"./\"+im[\"bin\"], FILTER, \"-i\", im[\"impl\"], \"-t\", t, img]).decode(\"utf-8\")\n",
    "\n",
    "def parse_cycles(out):\n",
    "    \"\"\" Output esperado:\n",
    "0    Procesando...\n",
    "1      Filtro             : Rombos\n",
    "2      Implementación     : C\n",
    "3      Archivo de entrada : img/puente.bmp\n",
    "4    Tiempo de ejecución:\n",
    "5      Comienzo                          : 418148872718872\n",
    "6      Fin                               : 418154435946972\n",
    "7      # iteraciones                     : 100\n",
    "8      # de ciclos insumidos totales     : 5563228100\n",
    "9      # de ciclos insumidos por llamada : 55632280.000\n",
    "    \"\"\"\n",
    "    return float(out.split('\\n')[9].split(': ')[1])"
   ]
  },
  {
   "cell_type": "markdown",
   "metadata": {},
   "source": [
    "#### Ciclos normales"
   ]
  },
  {
   "cell_type": "code",
   "execution_count": 7,
   "metadata": {},
   "outputs": [
    {
     "data": {
      "application/vnd.jupyter.widget-view+json": {
       "model_id": "86d6ec0e9ff44942a9d5118a29b4af16"
      }
     },
     "metadata": {},
     "output_type": "display_data"
    },
    {
     "data": {
      "application/vnd.jupyter.widget-view+json": {
       "model_id": "0d7583421a37401abcdab32c18369198"
      }
     },
     "metadata": {},
     "output_type": "display_data"
    },
    {
     "data": {
      "application/vnd.jupyter.widget-view+json": {
       "model_id": "0c0cb0cb00844aab98346d2365c7d382"
      }
     },
     "metadata": {},
     "output_type": "display_data"
    },
    {
     "data": {
      "application/vnd.jupyter.widget-view+json": {
       "model_id": "a02e8d03ec8641daa06d36b9da65d3dc"
      }
     },
     "metadata": {},
     "output_type": "display_data"
    },
    {
     "data": {
      "application/vnd.jupyter.widget-view+json": {
       "model_id": "3c60c01c5fc14813868d49a25199a334"
      }
     },
     "metadata": {},
     "output_type": "display_data"
    },
    {
     "data": {
      "application/vnd.jupyter.widget-view+json": {
       "model_id": "555dddfab61c4eda81f3cf185729e6ec"
      }
     },
     "metadata": {},
     "output_type": "display_data"
    },
    {
     "data": {
      "application/vnd.jupyter.widget-view+json": {
       "model_id": "1458833f5c364c98b2bfdf10d780473c"
      }
     },
     "metadata": {},
     "output_type": "display_data"
    },
    {
     "name": "stdout",
     "output_type": "stream",
     "text": [
      "Done!\n",
      "\n",
      "✨\n",
      "  ⊂_ヽ\n",
      " 　 ＼＼ \n",
      "　　 ＼( ͡° ͜ʖ ͡°)\n",
      "　　　 >　⌒ヽ\n",
      "　　　/ 　 へ＼\n",
      "　　 /　　/　＼＼\n",
      "　　 ﾚ　ノ　　 ヽ_つ\n",
      "　　/　/\n",
      "　 /　/|\n",
      "　(　(ヽ\n",
      "　|　|、＼\n",
      "　| 丿 ＼ ⌒)\n",
      "　| | 　　) /\n",
      "ノ )　　Lﾉ\n",
      "(_／)\n"
     ]
    }
   ],
   "source": [
    "for imp in logProgress(IMPS.keys(), name=\"Implementación\"):\n",
    "    for _ in logProgress(range(0, 100), name=\"Iteración\"):\n",
    "        out = run(IMPS[imp], t=\"20\", img=IMGS[\"big_fish_1024x600\"])\n",
    "        cycles = parse_cycles(out)\n",
    "        IMPS[imp][\"cycles\"].append(cycles)\n",
    "\n",
    "done()"
   ]
  },
  {
   "cell_type": "markdown",
   "metadata": {},
   "source": [
    "#### Ciclos por imagen"
   ]
  },
  {
   "cell_type": "code",
   "execution_count": 21,
   "metadata": {},
   "outputs": [
    {
     "data": {
      "application/vnd.jupyter.widget-view+json": {
       "model_id": "1b5523e9810b487ba6cc06b2f8887a99"
      }
     },
     "metadata": {},
     "output_type": "display_data"
    },
    {
     "data": {
      "application/vnd.jupyter.widget-view+json": {
       "model_id": "456c6825dd0447dc8184c1aa37da57c3"
      }
     },
     "metadata": {},
     "output_type": "display_data"
    },
    {
     "data": {
      "application/vnd.jupyter.widget-view+json": {
       "model_id": "cef5edead2fb434d999e8567490b5aba"
      }
     },
     "metadata": {},
     "output_type": "display_data"
    },
    {
     "name": "stdout",
     "output_type": "stream",
     "text": [
      "Done!\n",
      "\n",
      "✨\n",
      "  ⊂_ヽ\n",
      " 　 ＼＼ \n",
      "　　 ＼( ͡° ͜ʖ ͡°)\n",
      "　　　 >　⌒ヽ\n",
      "　　　/ 　 へ＼\n",
      "　　 /　　/　＼＼\n",
      "　　 ﾚ　ノ　　 ヽ_つ\n",
      "　　/　/\n",
      "　 /　/|\n",
      "　(　(ヽ\n",
      "　|　|、＼\n",
      "　| 丿 ＼ ⌒)\n",
      "　| | 　　) /\n",
      "ノ )　　Lﾉ\n",
      "(_／)\n"
     ]
    }
   ],
   "source": [
    "ASM_IMPS = [name for name in IMPS.keys() if \"asm\" in name]\n",
    "for imp in logProgress(ASM_IMPS, name=\"Implementación\"):\n",
    "    IMPS[imp][\"cycles_per_img\"] = []\n",
    "    for img in logProgress(IMGS.values(), name=\"Imagen\"):\n",
    "        out = run(IMPS[imp], t=\"150\", img=img)\n",
    "        IMPS[imp][\"cycles_per_img\"].append(parse_cycles(out))\n",
    "done()"
   ]
  },
  {
   "cell_type": "markdown",
   "metadata": {
    "scrolled": true
   },
   "source": [
    "### Plots de datos"
   ]
  },
  {
   "cell_type": "code",
   "execution_count": 10,
   "metadata": {},
   "outputs": [
    {
     "data": {
      "image/png": "[encoded data removed]",
      "text/plain": [
       "<Figure size 648x432 with 1 Axes>"
      ]
     },
     "metadata": {},
     "output_type": "display_data"
    }
   ],
   "source": [
    "box_plot(IMPS.values(), \"Ciclos por implementación y optimización\")"
   ]
  },
  {
   "cell_type": "code",
   "execution_count": 11,
   "metadata": {},
   "outputs": [
    {
     "data": {
      "image/png": "[encoded data removed]",
      "text/plain": [
       "<Figure size 648x432 with 1 Axes>"
      ]
     },
     "metadata": {},
     "output_type": "display_data"
    }
   ],
   "source": [
    "box_plot(\n",
    "    [info for imp, info in IMPS.items() if \"asm\" in imp],\n",
    "    \"Ciclos por implementación de asm\"\n",
    ")"
   ]
  },
  {
   "cell_type": "code",
   "execution_count": 12,
   "metadata": {},
   "outputs": [
    {
     "data": {
      "image/png": "[encoded data removed]",
      "text/plain": [
       "<Figure size 648x432 with 1 Axes>"
      ]
     },
     "metadata": {},
     "output_type": "display_data"
    }
   ],
   "source": [
    "box_plot(\n",
    "    [imp for imp in IMPS.values() if \"c\"==imp[\"impl\"]],\n",
    "    \"Ciclos por implementación de c\"\n",
    ")"
   ]
  },
  {
   "cell_type": "code",
   "execution_count": 22,
   "metadata": {},
   "outputs": [
    {
     "data": {
      "image/png": "[encoded data removed]",
      "text/plain": [
       "<Figure size 864x648 with 1 Axes>"
      ]
     },
     "metadata": {},
     "output_type": "display_data"
    }
   ],
   "source": [
    "# key of fmt big_fish_128x75\n",
    "sizes = [img.split('_')[2] for img in IMGS.keys()]\n",
    "fig = plt.figure(1, figsize=(12, 9))\n",
    "plt.plot(sizes, IMPS[\"asm\"][\"cycles_per_img\"], figure=fig, label=\"asm\")\n",
    "plt.plot(sizes, IMPS[\"asm_pclc\"][\"cycles_per_img\"], figure=fig, label=\"asm c/ pclc\")\n",
    "plt.legend()\n",
    "plt.xlabel(\"Tamaño de la imagen\")\n",
    "plt.ylabel(\"# Ciclos\")\n",
    "plt.title(\"Cantidad de ciclos en relacion al tamaño de la imagen por implementación de asm\")\n",
    "plt.show()"
   ]
  },
  {
   "cell_type": "code",
   "execution_count": null,
   "metadata": {},
   "outputs": [],
   "source": []
  }
 ],
 "metadata": {
  "kernelspec": {
   "display_name": "Python 3",
   "language": "python",
   "name": "python3"
  },
  "language_info": {
   "codemirror_mode": {
    "name": "ipython",
    "version": 3
   },
   "file_extension": ".py",
   "mimetype": "text/x-python",
   "name": "python",
   "nbconvert_exporter": "python",
   "pygments_lexer": "ipython3",
   "version": "3.6.8"
  }
 },
 "nbformat": 4,
 "nbformat_minor": 2
}
