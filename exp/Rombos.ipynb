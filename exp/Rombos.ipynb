{
 "cells": [
  {
   "cell_type": "markdown",
   "metadata": {},
   "source": [
    "# Sin Filtro (TP2 Orga2)\n",
    "\n",
    "## Experimentos de Rombos"
   ]
  },
  {
   "cell_type": "markdown",
   "metadata": {},
   "source": [
    "### Compilado de codigo"
   ]
  },
  {
   "cell_type": "code",
   "execution_count": null,
   "metadata": {
    "scrolled": true
   },
   "outputs": [],
   "source": [
    "# Copio las imagenes\n",
    "!cp -a ../src/img img\n",
    "\n",
    "# Compilo con los diferentes niveles de optimización\n",
    "!cd ../src && make\n",
    "!cp ../src/build/tp2 tp2\n",
    "!cd ../src && make C_OPT=O1 C_BIN=tp2_O1\n",
    "!cp ../src/build/tp2 tp2_O1\n",
    "!cd ../src && make C_OPT=O2 C_BIN=tp2_O2\n",
    "!cp ../src/build/tp2 tp2_O2\n",
    "!cd ../src && make C_OPT=O3 C_BIN=tp2_O3\n",
    "!cp ../src/build/tp2 tp2_O3\n"
   ]
  },
  {
   "cell_type": "markdown",
   "metadata": {},
   "source": [
    "### Imports"
   ]
  },
  {
   "cell_type": "code",
   "execution_count": 20,
   "metadata": {
    "scrolled": true
   },
   "outputs": [
    {
     "name": "stdout",
     "output_type": "stream",
     "text": [
      "/home/mnpanic/repositorios/exactas/tp2/exp\n",
      "Python 3.6.8\n"
     ]
    }
   ],
   "source": [
    "# Verifico la correcta instalación. Si no falla el import está OK\n",
    "#!/usr/bin/env python3\n",
    "!pwd\n",
    "!python3 --version\n",
    "\n",
    "#import numpy as np\n",
    "\n",
    "import matplotlib.pyplot as plt\n",
    "import matplotlib.patches as mpatches\n",
    "\n",
    "from IPython.display import Markdown, display\n",
    "from IPython.display import clear_output\n",
    "\n",
    "from subprocess import check_output\n",
    "\n",
    "from ipywidgets import IntProgress, HTML, VBox"
   ]
  },
  {
   "cell_type": "markdown",
   "metadata": {},
   "source": [
    "### Utilidades"
   ]
  },
  {
   "cell_type": "code",
   "execution_count": 22,
   "metadata": {
    "scrolled": true
   },
   "outputs": [],
   "source": [
    "def printmd(string):\n",
    "    display(Markdown(string))\n",
    "\n",
    "def logProgress(sequence, every=None, size=None, name='Items'):\n",
    "    is_iterator = False\n",
    "    if size is None:\n",
    "        try:\n",
    "            size = len(sequence)\n",
    "        except TypeError:\n",
    "            is_iterator = True\n",
    "    if size is not None:\n",
    "        if every is None:\n",
    "            if size <= 200:\n",
    "                every = 1\n",
    "            else:\n",
    "                every = int(size / 200)     # every 0.5%\n",
    "    else:\n",
    "        assert every is not None, 'sequence is iterator, set every'\n",
    "\n",
    "    if is_iterator:\n",
    "        progress = IntProgress(min=0, max=1, value=1)\n",
    "        progress.bar_style = 'info'\n",
    "    else:\n",
    "        progress = IntProgress(min=0, max=size, value=0)\n",
    "    label = HTML()\n",
    "    box = VBox(children=[label, progress])\n",
    "    display(box)\n",
    "\n",
    "    index = 0\n",
    "    try:\n",
    "        for index, record in enumerate(sequence, 1):\n",
    "            if index == 1 or index % every == 0:\n",
    "                if is_iterator:\n",
    "                    label.value = '{name}: {index} / ?'.format(\n",
    "                        name=name,\n",
    "                        index=index\n",
    "                    )\n",
    "                else:\n",
    "                    progress.value = index\n",
    "                    label.value = u'{name}: {index} / {size}'.format(\n",
    "                        name=name,\n",
    "                        index=index,\n",
    "                        size=size\n",
    "                    )\n",
    "            yield record\n",
    "    except:\n",
    "        progress.bar_style = 'danger'\n",
    "        raise\n",
    "    else:\n",
    "        progress.bar_style = 'success'\n",
    "        progress.value = index\n",
    "        label.value = \"{name}: {index}\".format(\n",
    "            name=name,\n",
    "            index=str(index or '?')\n",
    "        )\n",
    "        \n",
    "def done():\n",
    "    print(\"Done!\\n\\n✨\\n  ⊂_ヽ\\n 　 ＼＼ \\n　　 ＼( ͡° ͜ʖ ͡°)\\n　　　 >　⌒ヽ\\n　　　/ 　 へ＼\\n　　 /　　/　＼＼\\n　　 ﾚ　ノ　　 ヽ_つ\\n　　/　/\\n　 /　/|\\n　(　(ヽ\\n　|　|、＼\\n　| 丿 ＼ ⌒)\\n　| | 　　) /\\nノ )　　Lﾉ\\n(_／)\")\n",
    "    \n",
    "def rmse(errorCuadratico, n):\n",
    "    return np.sqrt(1/n * errorCuadratico)"
   ]
  },
  {
   "cell_type": "markdown",
   "metadata": {},
   "source": [
    "### Obtencion de datos"
   ]
  },
  {
   "cell_type": "code",
   "execution_count": 28,
   "metadata": {
    "scrolled": true
   },
   "outputs": [
    {
     "data": {
      "application/vnd.jupyter.widget-view+json": {
       "model_id": "e9abfd1fa96543eeaa184de96a851456"
      }
     },
     "metadata": {},
     "output_type": "display_data"
    },
    {
     "data": {
      "application/vnd.jupyter.widget-view+json": {
       "model_id": "16455da3817542b8a1de23ed3ef7bd1a"
      }
     },
     "metadata": {},
     "output_type": "display_data"
    },
    {
     "data": {
      "application/vnd.jupyter.widget-view+json": {
       "model_id": "6c8fc63ff2504d209664b26ca8ce7c2a"
      }
     },
     "metadata": {},
     "output_type": "display_data"
    },
    {
     "data": {
      "application/vnd.jupyter.widget-view+json": {
       "model_id": "c511f3ed9c034e879890db44df30d834"
      }
     },
     "metadata": {},
     "output_type": "display_data"
    },
    {
     "data": {
      "application/vnd.jupyter.widget-view+json": {
       "model_id": "5d2a9889b4864685a148c04750b7d5b4"
      }
     },
     "metadata": {},
     "output_type": "display_data"
    },
    {
     "data": {
      "application/vnd.jupyter.widget-view+json": {
       "model_id": "1096dd158c614676a5ea454ed5752537"
      }
     },
     "metadata": {},
     "output_type": "display_data"
    },
    {
     "data": {
      "application/vnd.jupyter.widget-view+json": {
       "model_id": "84128689e29548568ccb5c03397f3440"
      }
     },
     "metadata": {},
     "output_type": "display_data"
    },
    {
     "name": "stdout",
     "output_type": "stream",
     "text": [
      "Done!\n",
      "\n",
      "✨\n",
      "  ⊂_ヽ\n",
      " 　 ＼＼ \n",
      "　　 ＼( ͡° ͜ʖ ͡°)\n",
      "　　　 >　⌒ヽ\n",
      "　　　/ 　 へ＼\n",
      "　　 /　　/　＼＼\n",
      "　　 ﾚ　ノ　　 ヽ_つ\n",
      "　　/　/\n",
      "　 /　/|\n",
      "　(　(ヽ\n",
      "　|　|、＼\n",
      "　| 丿 ＼ ⌒)\n",
      "　| | 　　) /\n",
      "ノ )　　Lﾉ\n",
      "(_／)\n"
     ]
    }
   ],
   "source": [
    "imps = {\n",
    "    \"asm\":      {\"impl\": \"asm\", \"bin\": \"tp2\",    \"label\": \"asm\",        \"data\": []},\n",
    "    \"asm_pclc\": {\"impl\": \"exp\", \"bin\": \"tp2\",    \"label\": \"asm (pclc)\", \"data\": []},\n",
    "    \"c_O0\":     {\"impl\": \"c\",   \"bin\": \"tp2\",    \"label\": \"c O0\",       \"data\": []},\n",
    "    \"c_O1\":     {\"impl\": \"c\",   \"bin\": \"tp2_O1\", \"label\": \"c O1\",       \"data\": []},\n",
    "    \"c_O3\":     {\"impl\": \"c\",   \"bin\": \"tp2_O3\", \"label\": \"c O2\",       \"data\": []},\n",
    "    \"c_O2\":     {\"impl\": \"c\",   \"bin\": \"tp2_O2\", \"label\": \"c O3\",       \"data\": []},\n",
    "}\n",
    "\n",
    "FILTER = \"Rombos\"\n",
    "ITER   = \"5\"\n",
    "IMG    = \"img/puente.bmp\"\n",
    "\n",
    "def run(im):\n",
    "    \"\"\"Corre una implementacion y retorna el output.\"\"\"\n",
    "    # Quiero correr\n",
    "    #  ./tp2 Rombos -i asm -t 100 img/puente.bmp\n",
    "    return check_output([\"./\"+im[\"bin\"], FILTER, \"-i\", im[\"impl\"], \"-t\", ITER, IMG]).decode(\"utf-8\")\n",
    "\n",
    "def get_cycles(out):\n",
    "    \"\"\" Output esperado:\n",
    "0    Procesando...\n",
    "1      Filtro             : Rombos\n",
    "2      Implementación     : C\n",
    "3      Archivo de entrada : img/puente.bmp\n",
    "4    Tiempo de ejecución:\n",
    "5      Comienzo                          : 418148872718872\n",
    "6      Fin                               : 418154435946972\n",
    "7      # iteraciones                     : 100\n",
    "8      # de ciclos insumidos totales     : 5563228100\n",
    "9      # de ciclos insumidos por llamada : 55632280.000\n",
    "    \"\"\"\n",
    "    return float(out.split('\\n')[9].split(': ')[1])\n",
    "\n",
    "for imp in logProgress(imps.keys(), name=\"Implementación\"):\n",
    "    for _ in logProgress(range(0, 100), name=\"Iteración\"):\n",
    "        out = run(imps[imp])\n",
    "        cycles = get_cycles(out)\n",
    "        imps[imp][\"data\"].append(cycles)\n",
    "\n",
    "done()\n"
   ]
  },
  {
   "cell_type": "markdown",
   "metadata": {
    "scrolled": true
   },
   "source": [
    "### Plots de datos"
   ]
  },
  {
   "cell_type": "code",
   "execution_count": 40,
   "metadata": {},
   "outputs": [],
   "source": [
    "def box_plot(impls, title):\n",
    "    \n",
    "    ## Create boxplots\n",
    "    # Create a figure instance\n",
    "    fig = plt.figure(1, figsize=(9, 6))\n",
    "\n",
    "    # Create an axes instance\n",
    "    ax = fig.add_subplot(111)\n",
    "\n",
    "    dataToPlot = [imp[\"data\"] for imp in impls]\n",
    "\n",
    "    # Create the boxplot\n",
    "    ## add patch_artist=True option to ax.boxplot() \n",
    "    ## to get fill color\n",
    "    bp = ax.boxplot(dataToPlot, patch_artist=True)\n",
    "\n",
    "    ## change outline color, fill color and linewidth of the boxes\n",
    "    for box in bp['boxes']:\n",
    "        # change outline color\n",
    "        box.set( color='#7570b3', linewidth=2)\n",
    "        # change fill color\n",
    "        box.set( facecolor = '#1b9e77' )\n",
    "\n",
    "    ## change color and linewidth of the whiskers\n",
    "    for whisker in bp['whiskers']:\n",
    "        whisker.set(color='#7570b3', linewidth=2)\n",
    "\n",
    "    ## change color and linewidth of the caps\n",
    "    for cap in bp['caps']:\n",
    "        cap.set(color='#7570b3', linewidth=2)\n",
    "\n",
    "    ## change color and linewidth of the medians\n",
    "    for median in bp['medians']:\n",
    "        median.set(color='#b2df8a', linewidth=2)\n",
    "\n",
    "    ## change the style of fliers and their fill\n",
    "    for flier in bp['fliers']:\n",
    "        flier.set(marker='o', color='#e7298a', alpha=0.5)\n",
    "\n",
    "    ax.set_xticklabels([imp[\"label\"] for imp in impls])\n",
    "\n",
    "    ## Remove top axes and right axes ticks\n",
    "    ax.get_xaxis().tick_bottom()\n",
    "    ax.get_yaxis().tick_left()\n",
    "\n",
    "    ax.set_title(title)"
   ]
  },
  {
   "cell_type": "code",
   "execution_count": 41,
   "metadata": {},
   "outputs": [
    {
     "data": {
      "image/png": "[encoded data removed]",
      "text/plain": [
       "<Figure size 648x432 with 1 Axes>"
      ]
     },
     "metadata": {},
     "output_type": "display_data"
    }
   ],
   "source": [
    "box_plot(imps.values(), \"Ciclos por implementación y optimización\")"
   ]
  },
  {
   "cell_type": "code",
   "execution_count": 43,
   "metadata": {},
   "outputs": [
    {
     "data": {
      "image/png": "[encoded data removed]",
      "text/plain": [
       "<Figure size 648x432 with 1 Axes>"
      ]
     },
     "metadata": {},
     "output_type": "display_data"
    }
   ],
   "source": [
    "box_plot(\n",
    "    [info for imp, info in imps.items() if \"asm\" in imp],\n",
    "    \"Ciclos por implementación de asm\"\n",
    ")"
   ]
  },
  {
   "cell_type": "code",
   "execution_count": 48,
   "metadata": {},
   "outputs": [
    {
     "data": {
      "image/png": "[encoded data removed]",
      "text/plain": [
       "<Figure size 648x432 with 1 Axes>"
      ]
     },
     "metadata": {},
     "output_type": "display_data"
    }
   ],
   "source": [
    "box_plot(\n",
    "    [imp for imp in imps.values() if \"c\"==imp[\"impl\"]],\n",
    "    \"Ciclos por implementación de c\"\n",
    ")"
   ]
  },
  {
   "cell_type": "code",
   "execution_count": null,
   "metadata": {},
   "outputs": [],
   "source": []
  }
 ],
 "metadata": {
  "kernelspec": {
   "display_name": "Python 3",
   "language": "python",
   "name": "python3"
  },
  "language_info": {
   "codemirror_mode": {
    "name": "ipython",
    "version": 3
   },
   "file_extension": ".py",
   "mimetype": "text/x-python",
   "name": "python",
   "nbconvert_exporter": "python",
   "pygments_lexer": "ipython3",
   "version": "3.6.8"
  }
 },
 "nbformat": 4,
 "nbformat_minor": 2
}
