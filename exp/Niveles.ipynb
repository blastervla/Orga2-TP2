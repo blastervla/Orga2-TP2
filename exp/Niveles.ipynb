{
 "cells": [
  {
   "cell_type": "markdown",
   "metadata": {},
   "source": [
    "# Sin Filtro (TP2 Orga2)\n",
    "## Experimentos de Niveles 💪💪\n",
    "Vamos a probar a este muchacho...\n"
   ]
  },
  {
   "cell_type": "code",
   "execution_count": 1,
   "metadata": {},
   "outputs": [
    {
     "name": "stdout",
     "output_type": "stream",
     "text": [
      "Compilando código\n",
      "mkdir -p build\n",
      "make -C helper\n",
      "make[1]: Entering directory '/home/osboxes/Desktop/tp2/src/helper'\n",
      "cc -ggdb -Wall -Wno-unused-parameter -Wextra -std=c99 -no-pie -pedantic -m64 -O0 -march=native bmpdiff.c ../build/libbmp.o ../build/imagenes.o ../build/utils.o -o ../build/bmpdiff\n",
      "make[1]: Leaving directory '/home/osboxes/Desktop/tp2/src/helper'\n",
      "make -C filters\n",
      "make[1]: Entering directory '/home/osboxes/Desktop/tp2/src/filters'\n",
      "nasm -felf64 -g -F dwarf -o ../build/Nivel_asm.o Nivel_asm.asm\n",
      "make[1]: Leaving directory '/home/osboxes/Desktop/tp2/src/filters'\n",
      "cc -ggdb -Wall -Wno-unused-parameter -Wextra -std=c99 -no-pie -pedantic -m64 -O0 -march=native build/tp2.o build/cli.o build/libbmp.o build/imagenes.o build/utils.o build/Rombos.o build/Bordes.o build/Nivel.o build/Rombos_asm.o build/Bordes_asm.o build/Nivel_asm.o build/Rombos_c.o build/Bordes_c.o build/Nivel_c.o -o build/tp2 -lm\n"
     ]
    }
   ],
   "source": [
    "print(\"Compilando código\")\n",
    "!cd ../src && make\n",
    "!cp ../src/build/tp2 tp2\n",
    "!cp -a ../src/img img"
   ]
  },
  {
   "cell_type": "code",
   "execution_count": 2,
   "metadata": {},
   "outputs": [
    {
     "data": {
      "text/markdown": [
       "### Para ejecutar el programa"
      ],
      "text/plain": [
       "<IPython.core.display.Markdown object>"
      ]
     },
     "metadata": {},
     "output_type": "display_data"
    },
    {
     "data": {
      "text/markdown": [
       "usar: ```call([\"./tp2\", \"args\", \"to\", \"spa\"])```"
      ],
      "text/plain": [
       "<IPython.core.display.Markdown object>"
      ]
     },
     "metadata": {},
     "output_type": "display_data"
    },
    {
     "data": {
      "text/markdown": [
       "Ejemplo: ```call([\"./tp2\", \"Nivel\", \"-i\", \"asm\", \"img/puente.bmp\", \"7\"])```"
      ],
      "text/plain": [
       "<IPython.core.display.Markdown object>"
      ]
     },
     "metadata": {},
     "output_type": "display_data"
    },
    {
     "data": {
      "text/markdown": [
       "### ✨Además, tenemos unas hermosas tools para testeo"
      ],
      "text/plain": [
       "<IPython.core.display.Markdown object>"
      ]
     },
     "metadata": {},
     "output_type": "display_data"
    },
    {
     "data": {
      "text/markdown": [
       "Si hacemos iteraciones en algún test, podemos wrappear el range con ```logProgress```."
      ],
      "text/plain": [
       "<IPython.core.display.Markdown object>"
      ]
     },
     "metadata": {},
     "output_type": "display_data"
    },
    {
     "data": {
      "text/markdown": [
       "\n",
       "**Ejemplo:** ```for i in logProgress(range(0, algo.size), name=\"Lo que representan mis índices\")```"
      ],
      "text/plain": [
       "<IPython.core.display.Markdown object>"
      ]
     },
     "metadata": {},
     "output_type": "display_data"
    },
    {
     "data": {
      "text/markdown": [
       "Esto es útil nada más para cosas que toman tiempo cuantificable :P (básicamente, no instantáneo)"
      ],
      "text/plain": [
       "<IPython.core.display.Markdown object>"
      ]
     },
     "metadata": {},
     "output_type": "display_data"
    },
    {
     "data": {
      "text/markdown": [
       "\n",
       "Si no nos interesa el output de una celda en particular (porque, por ejemplo, la usamos para carga de datos en el notebook), podemos ejecutar ```clear_output()\n",
       "done()```"
      ],
      "text/plain": [
       "<IPython.core.display.Markdown object>"
      ]
     },
     "metadata": {},
     "output_type": "display_data"
    },
    {
     "data": {
      "text/markdown": [
       "al final de la misma."
      ],
      "text/plain": [
       "<IPython.core.display.Markdown object>"
      ]
     },
     "metadata": {},
     "output_type": "display_data"
    }
   ],
   "source": [
    "from subprocess import call, check_output\n",
    "from IPython.display import Markdown, display\n",
    "def printmd(string):\n",
    "    display(Markdown(string))\n",
    "\n",
    "printmd(\"### Para ejecutar el programa\")\n",
    "printmd(\"usar: ```call([\\\"./tp2\\\", \\\"args\\\", \\\"to\\\", \\\"spa\\\"])```\")\n",
    "printmd(\"Ejemplo: ```call([\\\"./tp2\\\", \\\"Nivel\\\", \\\"-i\\\", \\\"asm\\\", \\\"img/puente.bmp\\\", \\\"7\\\"])```\")\n",
    "    \n",
    "printmd(\"### ✨Además, tenemos unas hermosas tools para testeo\")\n",
    "printmd(\"Si hacemos iteraciones en algún test, podemos wrappear el range con ```logProgress```.\")\n",
    "printmd(\"\\n**Ejemplo:** ```for i in logProgress(range(0, algo.size), name=\\\"Lo que representan mis índices\\\")```\")\n",
    "printmd(\"Esto es útil nada más para cosas que toman tiempo cuantificable :P (básicamente, no instantáneo)\")\n",
    "\n",
    "printmd(\"\\nSi no nos interesa el output de una celda en particular (porque, por ejemplo, la usamos para carga de datos en el notebook), podemos ejecutar ```clear_output()\\ndone()```\")\n",
    "printmd(\"al final de la misma.\")"
   ]
  },
  {
   "cell_type": "code",
   "execution_count": 3,
   "metadata": {},
   "outputs": [
    {
     "name": "stdout",
     "output_type": "stream",
     "text": [
      "/home/osboxes/Desktop/tp2/exp\n",
      "Python 3.7.4\n"
     ]
    }
   ],
   "source": [
    "# Verifico la correcta instalación. Si no falla el import está OK\n",
    "!pwd\n",
    "!python --version\n",
    "import numpy as np\n",
    "import matplotlib.pyplot as plt\n",
    "import matplotlib.patches as mpatches\n",
    "from IPython.display import clear_output"
   ]
  },
  {
   "cell_type": "code",
   "execution_count": 4,
   "metadata": {},
   "outputs": [],
   "source": [
    "def logProgress(sequence, every=None, size=None, name='Items'):\n",
    "    from ipywidgets import IntProgress, HTML, VBox\n",
    "    from IPython.display import display\n",
    "\n",
    "    is_iterator = False\n",
    "    if size is None:\n",
    "        try:\n",
    "            size = len(sequence)\n",
    "        except TypeError:\n",
    "            is_iterator = True\n",
    "    if size is not None:\n",
    "        if every is None:\n",
    "            if size <= 200:\n",
    "                every = 1\n",
    "            else:\n",
    "                every = int(size / 200)     # every 0.5%\n",
    "    else:\n",
    "        assert every is not None, 'sequence is iterator, set every'\n",
    "\n",
    "    if is_iterator:\n",
    "        progress = IntProgress(min=0, max=1, value=1)\n",
    "        progress.bar_style = 'info'\n",
    "    else:\n",
    "        progress = IntProgress(min=0, max=size, value=0)\n",
    "    label = HTML()\n",
    "    box = VBox(children=[label, progress])\n",
    "    display(box)\n",
    "\n",
    "    index = 0\n",
    "    try:\n",
    "        for index, record in enumerate(sequence, 1):\n",
    "            if index == 1 or index % every == 0:\n",
    "                if is_iterator:\n",
    "                    label.value = '{name}: {index} / ?'.format(\n",
    "                        name=name,\n",
    "                        index=index\n",
    "                    )\n",
    "                else:\n",
    "                    progress.value = index\n",
    "                    label.value = u'{name}: {index} / {size}'.format(\n",
    "                        name=name,\n",
    "                        index=index,\n",
    "                        size=size\n",
    "                    )\n",
    "            yield record\n",
    "    except:\n",
    "        progress.bar_style = 'danger'\n",
    "        raise\n",
    "    else:\n",
    "        progress.bar_style = 'success'\n",
    "        progress.value = index\n",
    "        label.value = \"{name}: {index}\".format(\n",
    "            name=name,\n",
    "            index=str(index or '?')\n",
    "        )\n",
    "        \n",
    "def done():\n",
    "    print(\"Done!\\n\\n✨\\n  ⊂_ヽ\\n 　 ＼＼ \\n　　 ＼( ͡° ͜ʖ ͡°)\\n　　　 >　⌒ヽ\\n　　　/ 　 へ＼\\n　　 /　　/　＼＼\\n　　 ﾚ　ノ　　 ヽ_つ\\n　　/　/\\n　 /　/|\\n　(　(ヽ\\n　|　|、＼\\n　| 丿 ＼ ⌒)\\n　| | 　　) /\\nノ )　　Lﾉ\\n(_／)\")\n",
    "    \n",
    "def rmse(errorCuadratico, n):\n",
    "    return np.sqrt(1/n * errorCuadratico)"
   ]
  },
  {
   "cell_type": "markdown",
   "metadata": {},
   "source": [
    "## Carga de Datos"
   ]
  },
  {
   "cell_type": "code",
   "execution_count": 9,
   "metadata": {},
   "outputs": [
    {
     "name": "stdout",
     "output_type": "stream",
     "text": [
      "Done!\n",
      "\n",
      "✨\n",
      "  ⊂_ヽ\n",
      " 　 ＼＼ \n",
      "　　 ＼( ͡° ͜ʖ ͡°)\n",
      "　　　 >　⌒ヽ\n",
      "　　　/ 　 へ＼\n",
      "　　 /　　/　＼＼\n",
      "　　 ﾚ　ノ　　 ヽ_つ\n",
      "　　/　/\n",
      "　 /　/|\n",
      "　(　(ヽ\n",
      "　|　|、＼\n",
      "　| 丿 ＼ ⌒)\n",
      "　| | 　　) /\n",
      "ノ )　　Lﾉ\n",
      "(_／)\n"
     ]
    }
   ],
   "source": [
    "# Para cada implementación de asm, quiero contrastarla con C\n",
    "impls = [\"c\", \"asm\", \"asm_mid\", \"asm_low\", \"asm_ultra_low\"]\n",
    "res = {\"c\": [], \"c_o1\": [], \"c_o2\": [], \"c_o3\": [], \"asm\": [], \"asm_mid\": [], \"asm_low\": [], \"asm_ultra_low\": []}\n",
    "for impl in logProgress(impls, name=\"Implementación\"):\n",
    "    for i in logProgress(range(0, 100), name=\"Iteración\"):\n",
    "        pOutput = check_output([\"./tp2\", \"Nivel\", \"-i\", impl, \"-t\", \"100\", \"img/puente.bmp\", \"7\"]).decode(\"utf-8\")\n",
    "        # TODO: Filter here the output!\n",
    "        cantCiclosCallMsg = \"# de ciclos insumidos por llamada : \"\n",
    "        cantCiclosMsg = \"# de ciclos insumidos totales     : \"\n",
    "        i = pOutput.index(cantCiclosMsg)\n",
    "        j = pOutput.index(cantCiclosCallMsg)\n",
    "        res[impl] += [int(pOutput[i + len(cantCiclosMsg):j].replace(\"\\n\", \"\").strip())]\n",
    "\n",
    "clear_output()\n",
    "cimpls = [\"_o1\", \"_o2\", \"_o3\"]\n",
    "for impl in logProgress(cimpls, name=\"Implementación\"):\n",
    "    for i in logProgress(range(0, 100), name=\"Iteración\"):\n",
    "        pOutput = check_output([\"./tp2\" + impl, \"Nivel\", \"-i\", \"c\", \"-t\", \"100\", \"img/puente.bmp\", \"7\"]).decode(\"utf-8\")\n",
    "        # TODO: Filter here the output!\n",
    "        cantCiclosCallMsg = \"# de ciclos insumidos por llamada : \"\n",
    "        cantCiclosMsg = \"# de ciclos insumidos totales     : \"\n",
    "        i = pOutput.index(cantCiclosMsg)\n",
    "        j = pOutput.index(cantCiclosCallMsg)\n",
    "        res[\"c\" + impl] += [int(pOutput[i + len(cantCiclosMsg):j].replace(\"\\n\", \"\").strip())]\n",
    "        \n",
    "clear_output()\n",
    "done()"
   ]
  },
  {
   "cell_type": "code",
   "execution_count": 10,
   "metadata": {},
   "outputs": [
    {
     "data": {
      "text/plain": [
       "Text(0.5, 1.0, 'Ciclos de ejecución por tecnología')"
      ]
     },
     "execution_count": 10,
     "metadata": {},
     "output_type": "execute_result"
    },
    {
     "data": {
      "image/png": "[encoded data removed]",
      "text/plain": [
       "<Figure size 648x432 with 1 Axes>"
      ]
     },
     "metadata": {
      "needs_background": "light"
     },
     "output_type": "display_data"
    }
   ],
   "source": [
    "## Create boxplots\n",
    "# Create a figure instance\n",
    "fig = plt.figure(1, figsize=(9, 6))\n",
    "\n",
    "# Create an axes instance\n",
    "ax = fig.add_subplot(111)\n",
    "\n",
    "dataToPlot = [res[\"c\"], res[\"c_o1\"], res[\"c_o2\"], res[\"c_o3\"], res[\"asm_ultra_low\"], res[\"asm_low\"], res[\"asm_mid\"], res[\"asm\"]]\n",
    "\n",
    "# Create the boxplot\n",
    "## add patch_artist=True option to ax.boxplot() \n",
    "## to get fill color\n",
    "bp = ax.boxplot(dataToPlot, patch_artist=True)\n",
    "\n",
    "## change outline color, fill color and linewidth of the boxes\n",
    "for box in bp['boxes']:\n",
    "    # change outline color\n",
    "    box.set( color='#7570b3', linewidth=2)\n",
    "    # change fill color\n",
    "    box.set( facecolor = '#1b9e77' )\n",
    "\n",
    "## change color and linewidth of the whiskers\n",
    "for whisker in bp['whiskers']:\n",
    "    whisker.set(color='#7570b3', linewidth=2)\n",
    "\n",
    "## change color and linewidth of the caps\n",
    "for cap in bp['caps']:\n",
    "    cap.set(color='#7570b3', linewidth=2)\n",
    "\n",
    "## change color and linewidth of the medians\n",
    "for median in bp['medians']:\n",
    "    median.set(color='#b2df8a', linewidth=2)\n",
    "\n",
    "## change the style of fliers and their fill\n",
    "for flier in bp['fliers']:\n",
    "    flier.set(marker='o', color='#e7298a', alpha=0.5)\n",
    "    \n",
    "ax.set_xticklabels(['C (O0)', 'C (O1)', 'C (O2)', 'C (O3)', 'ASM (1 byte)', 'ASM (1 pix.)', 'ASM (2 pix.)', 'ASM (4 pix.)'])\n",
    "\n",
    "## Remove top axes and right axes ticks\n",
    "ax.get_xaxis().tick_bottom()\n",
    "ax.get_yaxis().tick_left()\n",
    "\n",
    "ax.set_title(\"Ciclos de ejecución por tecnología\")"
   ]
  },
  {
   "cell_type": "code",
   "execution_count": 11,
   "metadata": {},
   "outputs": [
    {
     "data": {
      "text/plain": [
       "Text(0.5, 1.0, 'Ciclos de ejecución por tecnología C')"
      ]
     },
     "execution_count": 11,
     "metadata": {},
     "output_type": "execute_result"
    },
    {
     "data": {
      "image/png": "[encoded data removed]",
      "text/plain": [
       "<Figure size 648x432 with 1 Axes>"
      ]
     },
     "metadata": {
      "needs_background": "light"
     },
     "output_type": "display_data"
    }
   ],
   "source": [
    "## Create boxplots\n",
    "# Create a figure instance\n",
    "fig = plt.figure(1, figsize=(9, 6))\n",
    "\n",
    "# Create an axes instance\n",
    "ax = fig.add_subplot(111)\n",
    "\n",
    "dataToPlot = [res[\"c\"], res[\"c_o1\"], res[\"c_o2\"], res[\"c_o3\"]]\n",
    "\n",
    "# Create the boxplot\n",
    "## add patch_artist=True option to ax.boxplot() \n",
    "## to get fill color\n",
    "bp = ax.boxplot(dataToPlot, patch_artist=True)\n",
    "\n",
    "## change outline color, fill color and linewidth of the boxes\n",
    "for box in bp['boxes']:\n",
    "    # change outline color\n",
    "    box.set( color='#7570b3', linewidth=2)\n",
    "    # change fill color\n",
    "    box.set( facecolor = '#1b9e77' )\n",
    "\n",
    "## change color and linewidth of the whiskers\n",
    "for whisker in bp['whiskers']:\n",
    "    whisker.set(color='#7570b3', linewidth=2)\n",
    "\n",
    "## change color and linewidth of the caps\n",
    "for cap in bp['caps']:\n",
    "    cap.set(color='#7570b3', linewidth=2)\n",
    "\n",
    "## change color and linewidth of the medians\n",
    "for median in bp['medians']:\n",
    "    median.set(color='#b2df8a', linewidth=2)\n",
    "\n",
    "## change the style of fliers and their fill\n",
    "for flier in bp['fliers']:\n",
    "    flier.set(marker='o', color='#e7298a', alpha=0.5)\n",
    "    \n",
    "ax.set_xticklabels(['C (O0)', 'C (O1)', 'C (O2), C (O3)'])\n",
    "\n",
    "## Remove top axes and right axes ticks\n",
    "ax.get_xaxis().tick_bottom()\n",
    "ax.get_yaxis().tick_left()\n",
    "\n",
    "ax.set_title(\"Ciclos de ejecución por tecnología C\")"
   ]
  },
  {
   "cell_type": "code",
   "execution_count": 12,
   "metadata": {},
   "outputs": [
    {
     "data": {
      "text/plain": [
       "Text(0.5, 1.0, 'Ciclos de ejecución por tecnología ASM')"
      ]
     },
     "execution_count": 12,
     "metadata": {},
     "output_type": "execute_result"
    },
    {
     "data": {
      "image/png": "[encoded data removed]",
      "text/plain": [
       "<Figure size 648x432 with 1 Axes>"
      ]
     },
     "metadata": {
      "needs_background": "light"
     },
     "output_type": "display_data"
    }
   ],
   "source": [
    "## Create boxplots\n",
    "# Create a figure instance\n",
    "fig = plt.figure(1, figsize=(9, 6))\n",
    "\n",
    "# Create an axes instance\n",
    "ax = fig.add_subplot(111)\n",
    "\n",
    "dataToPlot = [res[\"asm_ultra_low\"], res[\"asm_low\"], res[\"asm_mid\"], res[\"asm\"]]\n",
    "\n",
    "# Create the boxplot\n",
    "## add patch_artist=True option to ax.boxplot() \n",
    "## to get fill color\n",
    "bp = ax.boxplot(dataToPlot, patch_artist=True)\n",
    "\n",
    "## change outline color, fill color and linewidth of the boxes\n",
    "for box in bp['boxes']:\n",
    "    # change outline color\n",
    "    box.set( color='#7570b3', linewidth=2)\n",
    "    # change fill color\n",
    "    box.set( facecolor = '#1b9e77' )\n",
    "\n",
    "## change color and linewidth of the whiskers\n",
    "for whisker in bp['whiskers']:\n",
    "    whisker.set(color='#7570b3', linewidth=2)\n",
    "\n",
    "## change color and linewidth of the caps\n",
    "for cap in bp['caps']:\n",
    "    cap.set(color='#7570b3', linewidth=2)\n",
    "\n",
    "## change color and linewidth of the medians\n",
    "for median in bp['medians']:\n",
    "    median.set(color='#b2df8a', linewidth=2)\n",
    "\n",
    "## change the style of fliers and their fill\n",
    "for flier in bp['fliers']:\n",
    "    flier.set(marker='o', color='#e7298a', alpha=0.5)\n",
    "    \n",
    "ax.set_xticklabels(['ASM (1 byte)', 'ASM (1 pix.)', 'ASM (2 pix. sim)', 'ASM (4 pix. sim)'])\n",
    "\n",
    "## Remove top axes and right axes ticks\n",
    "ax.get_xaxis().tick_bottom()\n",
    "ax.get_yaxis().tick_left()\n",
    "\n",
    "ax.set_title(\"Ciclos de ejecución por tecnología ASM\")"
   ]
  },
  {
   "cell_type": "code",
   "execution_count": 44,
   "metadata": {},
   "outputs": [
    {
     "name": "stdout",
     "output_type": "stream",
     "text": [
      "0.5360561959919561\n",
      "465164447.0\n",
      "1416816415.0\n"
     ]
    },
    {
     "data": {
      "text/plain": [
       "[Text(0, 0, ''),\n",
       " Text(0, 0, 'C (O0)'),\n",
       " Text(0, 0, 'C (O1)'),\n",
       " Text(0, 0, 'C (O2)'),\n",
       " Text(0, 0, 'C (O3)'),\n",
       " Text(0, 0, 'ASM (1 B)'),\n",
       " Text(0, 0, 'ASM (1 P)'),\n",
       " Text(0, 0, 'ASM (2 P)'),\n",
       " Text(0, 0, 'ASM (4 P)')]"
      ]
     },
     "execution_count": 44,
     "metadata": {},
     "output_type": "execute_result"
    },
    {
     "data": {
      "image/png": "[encoded data removed]",
      "text/plain": [
       "<Figure size 648x432 with 1 Axes>"
      ]
     },
     "metadata": {
      "needs_background": "light"
     },
     "output_type": "display_data"
    }
   ],
   "source": [
    "print(np.median(res[\"asm\"])/np.median(res[\"asm_mid\"]))\n",
    "print(np.median(res[\"asm_ultra_low\"]))\n",
    "print(np.median(res[\"c\"]))\n",
    "\n",
    "div = np.median(res[\"c\"])\n",
    "\n",
    "dataToPlot = [\n",
    "    np.median(res[\"c\"]/div),\n",
    "    np.median(res[\"c_o1\"]/div),\n",
    "    np.median(res[\"c_o2\"]/div),\n",
    "    np.median(res[\"c_o3\"]/div),\n",
    "    np.median(res[\"asm_ultra_low\"]/div),\n",
    "    np.median(res[\"asm_low\"]/div),\n",
    "    np.median(res[\"asm_mid\"]/div),\n",
    "    np.median(res[\"asm\"]/div),\n",
    "]\n",
    "index = np.arange(len(dataToPlot))\n",
    "\n",
    "fig = plt.figure(1, figsize=(9, 6))\n",
    "\n",
    "# Create an axes instance\n",
    "ax = fig.add_subplot(111)\n",
    "\n",
    "b = ax.bar(index, dataToPlot)\n",
    "ax.set_xlabel('Implementación')\n",
    "ax.set_ylabel('Tiempo de ejecución (respecto de C O0)')\n",
    "# plt.xticks(div, label, fontsize=5, rotation=30)\n",
    "ax.set_title('Tiempos de ejecución por implementación respecto de C (O0)')\n",
    "\n",
    "for bar in b:\n",
    "    bar.set_color(\"#1b9e77\")\n",
    "\n",
    "\n",
    "\n",
    "ax.set_xticklabels(['', 'C (O0)', 'C (O1)', 'C (O2)', 'C (O3)', 'ASM (1 B)', 'ASM (1 P)', 'ASM (2 P)', 'ASM (4 P)'])"
   ]
  }
 ],
 "metadata": {
  "kernelspec": {
   "display_name": "Python 3",
   "language": "python",
   "name": "python3"
  },
  "language_info": {
   "codemirror_mode": {
    "name": "ipython",
    "version": 3
   },
   "file_extension": ".py",
   "mimetype": "text/x-python",
   "name": "python",
   "nbconvert_exporter": "python",
   "pygments_lexer": "ipython3",
   "version": "3.7.4"
  }
 },
 "nbformat": 4,
 "nbformat_minor": 2
}
